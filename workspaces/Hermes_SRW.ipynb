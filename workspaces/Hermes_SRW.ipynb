{
 "cells": [
  {
   "cell_type": "markdown",
   "metadata": {},
   "source": [
    "<a id=\"toc\"></a>\n",
    "# HERMES beamline simulation with SRW\n",
    "***\n",
    "\n",
    "Contents :\n",
    "1. [Photon source definition](#def_source)\n",
    "1. [Beamline definition](#def_bl)\n",
    "1. [Wavefront propagation](#wft_prog)\n",
    "1. [Visualisation](#visu)"
   ]
  },
  {
   "cell_type": "code",
   "execution_count": null,
   "metadata": {},
   "outputs": [],
   "source": [
    "__author__ = ['Rafael Celestre']\n",
    "__contact__ = 'rafael.celestre@synchrotron-soleil.fr'\n",
    "__license__ = 'GPL-3.0'\n",
    "__copyright__ = 'Synchrotron SOLEIL, Saint Aubin, France'\n",
    "__created__ = '01/AUG/2024'\n",
    "__changed__ = '05/AUG/2024'\n",
    "\n",
    "import numpy as np\n",
    "import oasys_srw.srwlib as srwlib \n",
    "from barc4sr.aux_utils import ElectronBeam, MagneticStructure\n",
    "from barc4xoc.aux_srw import wavefront_info, get_rays_from_wavefront, srw_quick_plot, orient_mirror\n",
    "from scipy.constants import c, degree, eV, h, micro, milli, nano, pi, pico\n",
    "from copy import deepcopy\n",
    "\n",
    "%matplotlib notebook    \n",
    "%load_ext autoreload\n",
    "%autoreload 2"
   ]
  },
  {
   "cell_type": "markdown",
   "metadata": {},
   "source": [
    "<a id=\"def_source\"></a>\n",
    "## Photon source definition\n",
    "[Back to the top](#toc)"
   ]
  },
  {
   "cell_type": "markdown",
   "metadata": {},
   "source": [
    "### Initial wavefront"
   ]
  },
  {
   "cell_type": "code",
   "execution_count": null,
   "metadata": {},
   "outputs": [],
   "source": [
    "ini_wft_npix = [100, 100]\n",
    "ini_wft_range = [5e-3, 5e-3]\n",
    "beam_energy = 719.9\n",
    "pupil_position = 18.151\n",
    "sampling_factor = 0.2"
   ]
  },
  {
   "cell_type": "code",
   "execution_count": null,
   "metadata": {},
   "outputs": [],
   "source": [
    "mesh = srwlib.SRWLRadMesh(_eStart=beam_energy,\n",
    "                          _eFin  =beam_energy,\n",
    "                          _ne    =1,\n",
    "                          _xStart= -ini_wft_range[0]/2,\n",
    "                          _xFin  = ini_wft_range[0]/2,\n",
    "                          _nx    = ini_wft_npix[0],\n",
    "                          _yStart= -ini_wft_range[1]/2,\n",
    "                          _yFin  = ini_wft_range[1]/2,\n",
    "                          _ny    = ini_wft_npix[1],\n",
    "                          _zStart=pupil_position)\n",
    "\n",
    "wfr = srwlib.SRWLWfr()\n",
    "wfr.allocate(mesh.ne, mesh.nx, mesh.ny)\n",
    "wfr.unitElFld = 1\n",
    "wfr.mesh = mesh"
   ]
  },
  {
   "cell_type": "markdown",
   "metadata": {},
   "source": [
    "### Electron beam"
   ]
  },
  {
   "cell_type": "code",
   "execution_count": null,
   "metadata": {},
   "outputs": [],
   "source": [
    "straight_section = ElectronBeam()\n",
    "straight_section.from_twiss(energy=2.75, energy_spread=0.1025/100, current=0.500,\n",
    "                  emittance=3.94*nano, coupling=1/100,\n",
    "                  beta_x=4.7890, eta_x= 0.1804, etap_x= 0.0007, alpha_x=-0.3858,\n",
    "                  beta_y=3.7497, eta_y=-0.0044, etap_y=-0.0025, alpha_y=-0.7746)\n",
    "straight_section.print_attributes()\n",
    "straight_section.get_gamma()"
   ]
  },
  {
   "cell_type": "code",
   "execution_count": null,
   "metadata": {},
   "outputs": [],
   "source": [
    "print('> Generating the electron beam ... ', end='')\n",
    "\n",
    "e_beam = srwlib.SRWLPartBeam()\n",
    "e_beam.Iavg = straight_section.current\n",
    "\n",
    "e_beam.partStatMom1.x = 0.0\n",
    "e_beam.partStatMom1.y = 0.0\n",
    "e_beam.partStatMom1.z = 0.0 \n",
    "e_beam.partStatMom1.xp = 0.0\n",
    "e_beam.partStatMom1.yp = 0.0\n",
    "e_beam.partStatMom1.gamma = straight_section.get_gamma()\n",
    "\n",
    "e_beam.arStatMom2[0] = straight_section.moment_xx          # <(x-<x>)^2>\n",
    "e_beam.arStatMom2[1] = straight_section.moment_xxp         # <(x-<x>)(x'-<x'>)>\n",
    "e_beam.arStatMom2[2] = straight_section.moment_xpxp        # <(x'-<x'>)^2>\n",
    "e_beam.arStatMom2[3] = straight_section.moment_yy          # <(y-<y>)^2>\n",
    "e_beam.arStatMom2[4] = straight_section.moment_yyp         # <(y-<y>)(y'-<y'>)>\n",
    "e_beam.arStatMom2[5] = straight_section.moment_ypyp        # <(y'-<y'>)^2>\n",
    "e_beam.arStatMom2[10] = straight_section.energy_spread**2  # <(E-<E>)^2>/<E>^2\n",
    "\n",
    "wfr.partBeam = e_beam\n",
    "print('completed')"
   ]
  },
  {
   "cell_type": "markdown",
   "metadata": {},
   "source": [
    "### Undulator"
   ]
  },
  {
   "cell_type": "code",
   "execution_count": null,
   "metadata": {},
   "outputs": [],
   "source": [
    "u64 = MagneticStructure(K_vertical=0.0,\n",
    "                        K_horizontal=0.0,\n",
    "                        period_length=64e-3,\n",
    "                        number_of_periods=28.0)\n",
    "\n",
    "u64.set_resonant_energy(719.9, 1, straight_section.energy_in_GeV, \"v\")\n",
    "\n",
    "u64.print_attributes()"
   ]
  },
  {
   "cell_type": "code",
   "execution_count": null,
   "metadata": {},
   "outputs": [],
   "source": [
    "print('> Generating the magnetic structure ... ', end='')\n",
    "# Electron trajectory\n",
    "eTraj = 0\n",
    "e_beam.partStatMom1.z = -0.5*u64.period_length*(u64.number_of_periods + 4)   # initial Longitudinal Coordinate (set before the ID)\n",
    "\n",
    "und = srwlib.SRWLMagFldU()\n",
    "und.set_sin(_per=u64.period_length,\n",
    "            _len=u64.period_length*u64.number_of_periods, \n",
    "            _bx=u64.B_horizontal, \n",
    "            _by=u64.B_vertical, \n",
    "            _phx=0, _phy=0, _sx=-1, _sy=-1)\n",
    "magFldCnt = srwlib.SRWLMagFldC(_arMagFld=[und],\n",
    "                                _arXc=srwlib.array('d', [0.0]),\n",
    "                                _arYc=srwlib.array('d', [0.0]),\n",
    "                                _arZc=srwlib.array('d', [0.0]))\n",
    "print('completed')"
   ]
  },
  {
   "cell_type": "markdown",
   "metadata": {},
   "source": [
    "### Generation of initial wavefront"
   ]
  },
  {
   "cell_type": "code",
   "execution_count": null,
   "metadata": {},
   "outputs": [],
   "source": [
    "arPrecSR = [0]*7\n",
    "arPrecSR[0] = 1     # SR calculation method: 0- \"manual\", 1- \"auto-undulator\", 2- \"auto-wiggler\"\n",
    "arPrecSR[1] = 0.01  # relative precision\n",
    "arPrecSR[2] = 0     # longitudinal position to start integration (effective if < zEndInteg)\n",
    "arPrecSR[3] = 0     # longitudinal position to finish integration (effective if > zStartInteg)\n",
    "arPrecSR[4] = 50000 # Number of points for trajectory calculation\n",
    "arPrecSR[5] = 1     # Use \"terminating terms\"  or not (1 or 0 respectively)\n",
    "arPrecSR[6] = sampling_factor # sampling factor for adjusting nx, ny (effective if > 0)"
   ]
  },
  {
   "cell_type": "code",
   "execution_count": null,
   "metadata": {},
   "outputs": [],
   "source": [
    "print('>  Undulator initial electric field calculation ... ', end='')\n",
    "srwlib.srwl.CalcElecFieldSR(wfr, eTraj, magFldCnt, arPrecSR)\n",
    "print('completed')\n",
    "\n",
    "wavefront_info(wfr)"
   ]
  },
  {
   "cell_type": "code",
   "execution_count": null,
   "metadata": {},
   "outputs": [],
   "source": [
    "# srw_quick_plot(wfr)"
   ]
  },
  {
   "cell_type": "markdown",
   "metadata": {},
   "source": [
    "<a id=\"def_bl\"></a>\n",
    "## Beamline definition\n",
    "\n",
    "[Back to the top](#toc)"
   ]
  },
  {
   "cell_type": "code",
   "execution_count": null,
   "metadata": {},
   "outputs": [],
   "source": [
    "pwfr = deepcopy(wfr)\n",
    "oe_array = []\n",
    "pp_array = []"
   ]
  },
  {
   "cell_type": "markdown",
   "metadata": {},
   "source": [
    "### Pupil\n",
    "[Back to the top](#toc)"
   ]
  },
  {
   "cell_type": "code",
   "execution_count": null,
   "metadata": {},
   "outputs": [],
   "source": [
    "pupil = srwlib.SRWLOptA(_shape='r', _ap_or_ob='a', _Dx=ini_wft_range[0], _Dy=ini_wft_range[0])\n",
    "oe_array.append(pupil)\n",
    "pp_array.append([0, 0, 1.0, 1, 0, 1., 5., 1., 5., 0.0, 0.0, 0.0, 0.0, 0.0, 0.0, 0.0, 0.0])"
   ]
  },
  {
   "cell_type": "markdown",
   "metadata": {},
   "source": [
    "### M1\n",
    "[Back to the top](#toc)"
   ]
  },
  {
   "cell_type": "markdown",
   "metadata": {},
   "source": [
    "#### M1A"
   ]
  },
  {
   "cell_type": "code",
   "execution_count": null,
   "metadata": {},
   "outputs": [],
   "source": [
    "orientation = orient_mirror(incident_angle=2.5*degree, orientation='right')\n",
    "\n",
    "m1a = srwlib.SRWLOptMirPl(_size_tang=200e-3, _size_sag=18e-3, _npt=100, _nps=100,\n",
    "                         _nvx=orientation['nvx'], _nvy=orientation['nvy'], _nvz=orientation['nvz'], \n",
    "                         _tvx=orientation['tvx'], _tvy=orientation['tvy'])\n",
    "\n",
    "oe_array.append(m1a)\n",
    "pp_array.append([0, 0, 1.0, 1, 0, 1., 1., 1., 1., 0.0, 0.0, 0.0, 0.0, 0.0, 0.0, 0.0, 0.0])"
   ]
  },
  {
   "cell_type": "markdown",
   "metadata": {},
   "source": [
    "#### drift"
   ]
  },
  {
   "cell_type": "code",
   "execution_count": null,
   "metadata": {},
   "outputs": [],
   "source": [
    "oe_array.append(srwlib.SRWLOptD(0.470422))\n",
    "pp_array.append([0, 0, 1.0, 1, 0, 1., 1., 1., 1., 0.0, 0.0, 0.0, 0.0, 0.0, 0.0, 0.0, 0.0])"
   ]
  },
  {
   "cell_type": "markdown",
   "metadata": {},
   "source": [
    "#### M1B"
   ]
  },
  {
   "cell_type": "code",
   "execution_count": null,
   "metadata": {},
   "outputs": [],
   "source": [
    "orientation = orient_mirror(incident_angle=2.5*degree, orientation='left')\n",
    "\n",
    "m1b = srwlib.SRWLOptMirTor(_rt=126.7433,_rs=1.802572,_size_tang=200e-3, _size_sag=10e-3, _npt=1001, _nps=1001,\n",
    "                          _nvx=orientation['nvx'], _nvy=orientation['nvy'], _nvz=orientation['nvz'], \n",
    "                          _tvx=orientation['tvx'], _tvy=orientation['tvy'])\n",
    "\n",
    "oe_array.append(m1b)\n",
    "pp_array.append([0, 0, 1.0, 1, 0, 1., 1., 1., 1., 0.0, 0.0, 0.0, 0.0, 0.0, 0.0, 0.0, 0.0])"
   ]
  },
  {
   "cell_type": "markdown",
   "metadata": {},
   "source": [
    "#### drift"
   ]
  },
  {
   "cell_type": "code",
   "execution_count": null,
   "metadata": {},
   "outputs": [],
   "source": [
    "oe_array.append(srwlib.SRWLOptD(3.2095982206327456))\n",
    "pp_array.append([0, 0, 1.0, 1, 0, 1., 1., 1., 1., 0.0, 0.0, 0.0, 0.0, 0.0, 0.0, 0.0, 0.0])"
   ]
  },
  {
   "cell_type": "markdown",
   "metadata": {},
   "source": [
    "### Monochromator\n",
    "[Back to the top](#toc)"
   ]
  },
  {
   "cell_type": "markdown",
   "metadata": {},
   "source": [
    "#### Mono entrance slit"
   ]
  },
  {
   "cell_type": "code",
   "execution_count": null,
   "metadata": {},
   "outputs": [],
   "source": [
    "slit = srwlib.SRWLOptA(_shape='r', _ap_or_ob='a', _Dx=ini_wft_range[0], _Dy=ini_wft_range[0])\n",
    "oe_array.append(slit)\n",
    "pp_array.append([0, 0, 1.0, 0, 0, 2/3, 3/2., 1, 4., 0.0, 0.0, 0.0, 0.0, 0.0, 0.0, 0.0, 0.0])\n",
    "# pp_array.append([0, 0, 1.0, 0, 0, 1., 2., 1, 2., 0.0, 0.0, 0.0, 0.0, 0.0, 0.0, 0.0, 0.0])"
   ]
  },
  {
   "cell_type": "markdown",
   "metadata": {},
   "source": [
    "#### drift"
   ]
  },
  {
   "cell_type": "code",
   "execution_count": null,
   "metadata": {},
   "outputs": [],
   "source": [
    "oe_array.append(srwlib.SRWLOptD(0.6))\n",
    "pp_array.append([0, 0, 1.0, 1, 0, 1., 1., 1., 1., 0.0, 0.0, 0.0, 0.0, 0.0, 0.0, 0.0, 0.0])"
   ]
  },
  {
   "cell_type": "markdown",
   "metadata": {},
   "source": [
    "#### Grating 450 l/mm"
   ]
  },
  {
   "cell_type": "code",
   "execution_count": null,
   "metadata": {},
   "outputs": [],
   "source": [
    "grazG = 2.302402*degree\n",
    "deflection = 0.09644684731373725\n",
    "\n",
    "orientation = orient_mirror(incident_angle=grazG, orientation='up', invert_tangential_component=False)\n",
    "\n",
    "oe_array.append(srwlib.SRWLOptA('r', 'a', 5e-3, np.sin(grazG)*80e-3))\n",
    "pp_array.append([0, 0, 1.0, 1, 0, 1., 1., 1., 1., 0.0, 0.0, 0.0, 0.0, 0.0, 0.0, 0.0, 0.0])\n",
    "\n",
    "substrate = srwlib.SRWLOptMirPl(_size_tang=80e-3, _size_sag=5e-3, _npt=5001, _nps=5001,\n",
    "                                _nvx=orientation['nvx'], _nvy=orientation['nvy'], _nvz=orientation['nvz'], \n",
    "                                _tvx=orientation['tvx'], _tvy=orientation['tvy'])\n",
    "\n",
    "vls = [450.00015185438964, -4.9135366794975125, -18.437531686217524, 4.9580003419891]\n",
    "g450 = srwlib.SRWLOptG(_mirSub=substrate, _m=-1, _grDen=vls[0], _grDen1=vls[1]*0, _grDen2=vls[2]*0, _grDen3=vls[3]*0, _cff=0.2, _ang_graz=grazG)\n",
    "\n",
    "oe_array.append(g450)\n",
    "pp_array.append([0, 0, 1.0, 1, 0, 1., 1., 1., 1., 0.0, 0.0, 0.0, 0.0, np.sin(deflection), np.cos(deflection), 1, 0])"
   ]
  },
  {
   "cell_type": "markdown",
   "metadata": {},
   "source": [
    "#### drift"
   ]
  },
  {
   "cell_type": "code",
   "execution_count": null,
   "metadata": {},
   "outputs": [],
   "source": [
    "oe_array.append(srwlib.SRWLOptD(0.311199))\n",
    "pp_array.append([0, 0, 1.0, 1, 0, 1., 1., 1., 1., 0.0, 0.0, 0.0, 0.0, 0.0, 0.0, 0.0, 0.0])"
   ]
  },
  {
   "cell_type": "markdown",
   "metadata": {},
   "source": [
    "#### M2"
   ]
  },
  {
   "cell_type": "code",
   "execution_count": null,
   "metadata": {},
   "outputs": [],
   "source": [
    "orientation = orient_mirror(incident_angle=0.5*deflection*degree, orientation='down')\n",
    "\n",
    "m2 = srwlib.SRWLOptMirPl(_size_tang=120e-3, _size_sag=15e-3, _npt=100, _nps=100,\n",
    "                         _nvx=orientation['nvx'], _nvy=orientation['nvy'], _nvz=orientation['nvz'], \n",
    "                         _tvx=orientation['tvx'], _tvy=orientation['tvy'])\n",
    "\n",
    "oe_array.append(m2)\n",
    "pp_array.append([0, 0, 1.0, 1, 0, 1., 1., 1., 1., 0.0, 0.0, 0.0, 0.0, 0.0, 0.0, 0.0, 0.0])"
   ]
  },
  {
   "cell_type": "markdown",
   "metadata": {},
   "source": [
    "#### drift"
   ]
  },
  {
   "cell_type": "code",
   "execution_count": null,
   "metadata": {},
   "outputs": [],
   "source": [
    "oe_array.append(srwlib.SRWLOptD(0.239162))\n",
    "pp_array.append([0, 0, 1.0, 1, 0, 1., 1., 1., 1., 0.0, 0.0, 0.0, 0.0, 0.0, 0.0, 0.0, 0.0])"
   ]
  },
  {
   "cell_type": "markdown",
   "metadata": {},
   "source": [
    "#### M3"
   ]
  },
  {
   "cell_type": "code",
   "execution_count": null,
   "metadata": {},
   "outputs": [],
   "source": [
    "orientation = orient_mirror(incident_angle=1.2*degree, orientation='left')\n",
    "\n",
    "m3 = srwlib.SRWLOptMirTor(_rt=83.0,_rs=0.1462124,_size_tang=120e-3, _size_sag=10e-3, _npt=1001, _nps=1001,\n",
    "                          _nvx=orientation['nvx'], _nvy=orientation['nvy'], _nvz=orientation['nvz'], \n",
    "                          _tvx=orientation['tvx'], _tvy=orientation['tvy'])\n",
    "\n",
    "oe_array.append(m1b)\n",
    "pp_array.append([0, 0, 1.0, 1, 0, 1., 1., 1., 1., 0.0, 0.0, 0.0, 0.0, 0.0, 0.0, 0.0, 0.0])"
   ]
  },
  {
   "cell_type": "markdown",
   "metadata": {},
   "source": [
    "#### drift"
   ]
  },
  {
   "cell_type": "code",
   "execution_count": null,
   "metadata": {},
   "outputs": [],
   "source": [
    "oe_array.append(srwlib.SRWLOptD(3.5))\n",
    "pp_array.append([0, 0, 1.0, 1, 0, 1., 1., 1., 1., 0.0, 0.0, 0.0, 0.0, 0.0, 0.0, 0.0, 0.0])"
   ]
  },
  {
   "cell_type": "markdown",
   "metadata": {},
   "source": [
    "#### Mono exit slit"
   ]
  },
  {
   "cell_type": "code",
   "execution_count": null,
   "metadata": {},
   "outputs": [],
   "source": [
    "slit = srwlib.SRWLOptA(_shape='r', _ap_or_ob='a', _Dx=ini_wft_range[0], _Dy=ini_wft_range[0])\n",
    "oe_array.append(slit)\n",
    "# pp_array.append([0, 0, 1.0, 0, 0, 1/2, 2., 1, 4., 0.0, 0.0, 0.0, 0.0, 0.0, 0.0, 0.0, 0.0])\n",
    "pp_array.append([0, 0, 1.0, 0, 0, 1., 1., 1, 1., 0.0, 0.0, 0.0, 0.0, 0.0, 0.0, 0.0, 0.0])"
   ]
  },
  {
   "cell_type": "markdown",
   "metadata": {},
   "source": [
    "### STXM branch\n",
    "[Back to the top](#toc)"
   ]
  },
  {
   "cell_type": "code",
   "execution_count": null,
   "metadata": {},
   "outputs": [],
   "source": []
  },
  {
   "cell_type": "code",
   "execution_count": null,
   "metadata": {},
   "outputs": [],
   "source": []
  },
  {
   "cell_type": "code",
   "execution_count": null,
   "metadata": {},
   "outputs": [],
   "source": []
  },
  {
   "cell_type": "code",
   "execution_count": null,
   "metadata": {},
   "outputs": [],
   "source": []
  },
  {
   "cell_type": "markdown",
   "metadata": {},
   "source": [
    "### PEEM branch\n",
    "[Back to the top](#toc)"
   ]
  },
  {
   "cell_type": "code",
   "execution_count": null,
   "metadata": {},
   "outputs": [],
   "source": []
  },
  {
   "cell_type": "code",
   "execution_count": null,
   "metadata": {},
   "outputs": [],
   "source": []
  },
  {
   "cell_type": "code",
   "execution_count": null,
   "metadata": {},
   "outputs": [],
   "source": []
  },
  {
   "cell_type": "code",
   "execution_count": null,
   "metadata": {},
   "outputs": [],
   "source": []
  },
  {
   "cell_type": "markdown",
   "metadata": {},
   "source": [
    "<a id=\"wft_prog\"></a>\n",
    "## Wavefront propagation\n",
    "\n",
    "[Back to the top](#toc)"
   ]
  },
  {
   "cell_type": "code",
   "execution_count": null,
   "metadata": {},
   "outputs": [],
   "source": [
    "pp_array.append([0, 0, 1.0, 0, 0, 1., 1., 0.2, 5., 0.0, 0.0, 0.0, 0.0, 0.0, 0.0, 0.0, 0.0])"
   ]
  },
  {
   "cell_type": "code",
   "execution_count": null,
   "metadata": {},
   "outputs": [],
   "source": [
    "optBL = srwlib.SRWLOptC(oe_array, pp_array)\n",
    "print('> Simulating electric field propagation ... ', end='')\n",
    "srwlib.srwl.PropagElecField(pwfr, optBL)\n",
    "print('completed')\n",
    "wavefront_info(pwfr)\n",
    "srw_quick_plot(pwfr)"
   ]
  },
  {
   "cell_type": "code",
   "execution_count": null,
   "metadata": {},
   "outputs": [],
   "source": []
  },
  {
   "cell_type": "code",
   "execution_count": null,
   "metadata": {},
   "outputs": [],
   "source": []
  },
  {
   "cell_type": "code",
   "execution_count": null,
   "metadata": {},
   "outputs": [],
   "source": []
  },
  {
   "cell_type": "code",
   "execution_count": null,
   "metadata": {},
   "outputs": [],
   "source": []
  },
  {
   "cell_type": "markdown",
   "metadata": {},
   "source": [
    "# SRW propagation parameters reference:\n",
    "\n",
    "```Python\n",
    "    #[ 0]: Auto-Resize (1) or not (0) Before propagation\n",
    "    #[ 1]: Auto-Resize (1) or not (0) After propagation\n",
    "    #[ 2]: Relative Precision for propagation with Auto-Resizing (1. is nominal)\n",
    "    #[ 3]: Type of free-space propagator:\n",
    "    #        0- Standard Fresnel\n",
    "    #        1- Fresnel with analytical treatment of the quadratic (leading) phase terms\n",
    "    #        2- Similar to 1, yet with different processing near a waist\n",
    "    #        3- For propagation from a waist over a ~large distance\n",
    "    #        4- For propagation over some distance to a waist\n",
    "    #        5- Huygens-Fresnel diffraction integral\n",
    "    #[ 4]: Do any Resizing on Fourier side, using FFT, (1) or not (0)\n",
    "    #[ 5]: Horizontal Range modification factor at Resizing (1. means no modification)\n",
    "    #[ 6]: Horizontal Resolution modification factor at Resizing\n",
    "    #[ 7]: Vertical Range modification factor at Resizing\n",
    "    #[ 8]: Vertical Resolution modification factor at Resizing\n",
    "    #[ 9]: Type of wavefront Shift before Resizing (not yet implemented)\n",
    "    #[10]: New Horizontal wavefront Center position after Shift (not yet implemented)\n",
    "    #[11]: New Vertical wavefront Center position after Shift (not yet implemented)\n",
    "    #[12]: Optional: Orientation of the Output Optical Axis vector in the Incident Beam Frame: Horizontal Coordinate\n",
    "    #[13]: Optional: Orientation of the Output Optical Axis vector in the Incident Beam Frame: Vertical Coordinate\n",
    "    #[14]: Optional: Orientation of the Output Optical Axis vector in the Incident Beam Frame: Longitudinal Coordinate\n",
    "    #[15]: Optional: Orientation of the Horizontal Base vector of the Output Frame in the Incident Beam Frame: Horizontal Coordinate\n",
    "    #[16]: Optional: Orientation of the Horizontal Base vector of the Output Frame in the Incident Beam Frame: Vertical Coordinate\n",
    "```"
   ]
  }
 ],
 "metadata": {
  "kernelspec": {
   "display_name": "Python 3 (ipykernel)",
   "language": "python",
   "name": "python3"
  },
  "language_info": {
   "codemirror_mode": {
    "name": "ipython",
    "version": 3
   },
   "file_extension": ".py",
   "mimetype": "text/x-python",
   "name": "python",
   "nbconvert_exporter": "python",
   "pygments_lexer": "ipython3",
   "version": "3.8.5"
  }
 },
 "nbformat": 4,
 "nbformat_minor": 4
}
