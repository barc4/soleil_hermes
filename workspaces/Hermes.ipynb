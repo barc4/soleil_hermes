{
 "cells": [
  {
   "cell_type": "markdown",
   "metadata": {},
   "source": [
    "<a id=\"toc\"></a>\n",
    "# HERMES beamline simulation with PyOptiX\n",
    "***\n",
    "\n",
    "Contents :\n",
    "1. [Optical elements declaration](#def_opt)\n",
    "1. [Definition of optical parameters](#def_param)\n",
    "1. [Alignment scripts](#alignement)\n",
    "1. [Simulation execution](#exec)\n",
    "1. [Visualisation](#visu)"
   ]
  },
  {
   "cell_type": "code",
   "execution_count": 1,
   "metadata": {},
   "outputs": [
    {
     "name": "stdout",
     "output_type": "stream",
     "text": [
      "DLL loaded successfully\n",
      "optix loaded, library version: SR_Source library Alpha release 2.3.740.740 build 2023-05-10\n",
      "\n",
      "OptiX library initialized\n"
     ]
    },
    {
     "data": {
      "text/html": [
       "    <style>\n",
       "        .bk-notebook-logo {\n",
       "            display: block;\n",
       "            width: 20px;\n",
       "            height: 20px;\n",
       "            background-image: url(data:image/png;base64,iVBORw0KGgoAAAANSUhEUgAAABQAAAAUCAYAAACNiR0NAAAABHNCSVQICAgIfAhkiAAAAAlwSFlzAAALEgAACxIB0t1+/AAAABx0RVh0U29mdHdhcmUAQWRvYmUgRmlyZXdvcmtzIENTNui8sowAAAOkSURBVDiNjZRtaJVlGMd/1/08zzln5zjP1LWcU9N0NkN8m2CYjpgQYQXqSs0I84OLIC0hkEKoPtiH3gmKoiJDU7QpLgoLjLIQCpEsNJ1vqUOdO7ppbuec5+V+rj4ctwzd8IIbbi6u+8f1539dt3A78eXC7QizUF7gyV1fD1Yqg4JWz84yffhm0qkFqBogB9rM8tZdtwVsPUhWhGcFJngGeWrPzHm5oaMmkfEg1usvLFyc8jLRqDOMru7AyC8saQr7GG7f5fvDeH7Ej8CM66nIF+8yngt6HWaKh7k49Soy9nXurCi1o3qUbS3zWfrYeQDTB/Qj6kX6Ybhw4B+bOYoLKCC9H3Nu/leUTZ1JdRWkkn2ldcCamzrcf47KKXdAJllSlxAOkRgyHsGC/zRday5Qld9DyoM4/q/rUoy/CXh3jzOu3bHUVZeU+DEn8FInkPBFlu3+nW3Nw0mk6vCDiWg8CeJaxEwuHS3+z5RgY+YBR6V1Z1nxSOfoaPa4LASWxxdNp+VWTk7+4vzaou8v8PN+xo+KY2xsw6une2frhw05CTYOmQvsEhjhWjn0bmXPjpE1+kplmmkP3suftwTubK9Vq22qKmrBhpY4jvd5afdRA3wGjFAgcnTK2s4hY0/GPNIb0nErGMCRxWOOX64Z8RAC4oCXdklmEvcL8o0BfkNK4lUg9HTl+oPlQxdNo3Mg4Nv175e/1LDGzZen30MEjRUtmXSfiTVu1kK8W4txyV6BMKlbgk3lMwYCiusNy9fVfvvwMxv8Ynl6vxoByANLTWplvuj/nF9m2+PDtt1eiHPBr1oIfhCChQMBw6Aw0UulqTKZdfVvfG7VcfIqLG9bcldL/+pdWTLxLUy8Qq38heUIjh4XlzZxzQm19lLFlr8vdQ97rjZVOLf8nclzckbcD4wxXMidpX30sFd37Fv/GtwwhzhxGVAprjbg0gCAEeIgwCZyTV2Z1REEW8O4py0wsjeloKoMr6iCY6dP92H6Vw/oTyICIthibxjm/DfN9lVz8IqtqKYLUXfoKVMVQVVJOElGjrnnUt9T9wbgp8AyYKaGlqingHZU/uG2NTZSVqwHQTWkx9hxjkpWDaCg6Ckj5qebgBVbT3V3NNXMSiWSDdGV3hrtzla7J+duwPOToIg42ChPQOQjspnSlp1V+Gjdged7+8UN5CRAV7a5EdFNwCjEaBR27b3W890TE7g24NAP/mMDXRWrGoFPQI9ls/MWO2dWFAar/xcOIImbbpA3zgAAAABJRU5ErkJggg==);\n",
       "        }\n",
       "    </style>\n",
       "    <div>\n",
       "        <a href=\"https://bokeh.org\" target=\"_blank\" class=\"bk-notebook-logo\"></a>\n",
       "        <span id=\"f1c7d444-00d7-4c90-9581-0b720d42b3fd\">Loading BokehJS ...</span>\n",
       "    </div>\n"
      ]
     },
     "metadata": {},
     "output_type": "display_data"
    },
    {
     "data": {
      "application/javascript": "'use strict';\n(function(root) {\n  function now() {\n    return new Date();\n  }\n\n  const force = true;\n\n  if (typeof root._bokeh_onload_callbacks === \"undefined\" || force === true) {\n    root._bokeh_onload_callbacks = [];\n    root._bokeh_is_loading = undefined;\n  }\n\nconst JS_MIME_TYPE = 'application/javascript';\n  const HTML_MIME_TYPE = 'text/html';\n  const EXEC_MIME_TYPE = 'application/vnd.bokehjs_exec.v0+json';\n  const CLASS_NAME = 'output_bokeh rendered_html';\n\n  /**\n   * Render data to the DOM node\n   */\n  function render(props, node) {\n    const script = document.createElement(\"script\");\n    node.appendChild(script);\n  }\n\n  /**\n   * Handle when an output is cleared or removed\n   */\n  function handleClearOutput(event, handle) {\n    function drop(id) {\n      const view = Bokeh.index.get_by_id(id)\n      if (view != null) {\n        view.model.document.clear()\n        Bokeh.index.delete(view)\n      }\n    }\n\n    const cell = handle.cell;\n\n    const id = cell.output_area._bokeh_element_id;\n    const server_id = cell.output_area._bokeh_server_id;\n\n    // Clean up Bokeh references\n    if (id != null) {\n      drop(id)\n    }\n\n    if (server_id !== undefined) {\n      // Clean up Bokeh references\n      const cmd_clean = \"from bokeh.io.state import curstate; print(curstate().uuid_to_server['\" + server_id + \"'].get_sessions()[0].document.roots[0]._id)\";\n      cell.notebook.kernel.execute(cmd_clean, {\n        iopub: {\n          output: function(msg) {\n            const id = msg.content.text.trim()\n            drop(id)\n          }\n        }\n      });\n      // Destroy server and session\n      const cmd_destroy = \"import bokeh.io.notebook as ion; ion.destroy_server('\" + server_id + \"')\";\n      cell.notebook.kernel.execute(cmd_destroy);\n    }\n  }\n\n  /**\n   * Handle when a new output is added\n   */\n  function handleAddOutput(event, handle) {\n    const output_area = handle.output_area;\n    const output = handle.output;\n\n    // limit handleAddOutput to display_data with EXEC_MIME_TYPE content only\n    if ((output.output_type != \"display_data\") || (!Object.prototype.hasOwnProperty.call(output.data, EXEC_MIME_TYPE))) {\n      return\n    }\n\n    const toinsert = output_area.element.find(\".\" + CLASS_NAME.split(' ')[0]);\n\n    if (output.metadata[EXEC_MIME_TYPE][\"id\"] !== undefined) {\n      toinsert[toinsert.length - 1].firstChild.textContent = output.data[JS_MIME_TYPE];\n      // store reference to embed id on output_area\n      output_area._bokeh_element_id = output.metadata[EXEC_MIME_TYPE][\"id\"];\n    }\n    if (output.metadata[EXEC_MIME_TYPE][\"server_id\"] !== undefined) {\n      const bk_div = document.createElement(\"div\");\n      bk_div.innerHTML = output.data[HTML_MIME_TYPE];\n      const script_attrs = bk_div.children[0].attributes;\n      for (let i = 0; i < script_attrs.length; i++) {\n        toinsert[toinsert.length - 1].firstChild.setAttribute(script_attrs[i].name, script_attrs[i].value);\n        toinsert[toinsert.length - 1].firstChild.textContent = bk_div.children[0].textContent\n      }\n      // store reference to server id on output_area\n      output_area._bokeh_server_id = output.metadata[EXEC_MIME_TYPE][\"server_id\"];\n    }\n  }\n\n  function register_renderer(events, OutputArea) {\n\n    function append_mime(data, metadata, element) {\n      // create a DOM node to render to\n      const toinsert = this.create_output_subarea(\n        metadata,\n        CLASS_NAME,\n        EXEC_MIME_TYPE\n      );\n      this.keyboard_manager.register_events(toinsert);\n      // Render to node\n      const props = {data: data, metadata: metadata[EXEC_MIME_TYPE]};\n      render(props, toinsert[toinsert.length - 1]);\n      element.append(toinsert);\n      return toinsert\n    }\n\n    /* Handle when an output is cleared or removed */\n    events.on('clear_output.CodeCell', handleClearOutput);\n    events.on('delete.Cell', handleClearOutput);\n\n    /* Handle when a new output is added */\n    events.on('output_added.OutputArea', handleAddOutput);\n\n    /**\n     * Register the mime type and append_mime function with output_area\n     */\n    OutputArea.prototype.register_mime_type(EXEC_MIME_TYPE, append_mime, {\n      /* Is output safe? */\n      safe: true,\n      /* Index of renderer in `output_area.display_order` */\n      index: 0\n    });\n  }\n\n  // register the mime type if in Jupyter Notebook environment and previously unregistered\n  if (root.Jupyter !== undefined) {\n    const events = require('base/js/events');\n    const OutputArea = require('notebook/js/outputarea').OutputArea;\n\n    if (OutputArea.prototype.mime_types().indexOf(EXEC_MIME_TYPE) == -1) {\n      register_renderer(events, OutputArea);\n    }\n  }\n  if (typeof (root._bokeh_timeout) === \"undefined\" || force === true) {\n    root._bokeh_timeout = Date.now() + 5000;\n    root._bokeh_failed_load = false;\n  }\n\n  const NB_LOAD_WARNING = {'data': {'text/html':\n     \"<div style='background-color: #fdd'>\\n\"+\n     \"<p>\\n\"+\n     \"BokehJS does not appear to have successfully loaded. If loading BokehJS from CDN, this \\n\"+\n     \"may be due to a slow or bad network connection. Possible fixes:\\n\"+\n     \"</p>\\n\"+\n     \"<ul>\\n\"+\n     \"<li>re-rerun `output_notebook()` to attempt to load from CDN again, or</li>\\n\"+\n     \"<li>use INLINE resources instead, as so:</li>\\n\"+\n     \"</ul>\\n\"+\n     \"<code>\\n\"+\n     \"from bokeh.resources import INLINE\\n\"+\n     \"output_notebook(resources=INLINE)\\n\"+\n     \"</code>\\n\"+\n     \"</div>\"}};\n\n  function display_loaded(error = null) {\n    const el = document.getElementById(\"f1c7d444-00d7-4c90-9581-0b720d42b3fd\");\n    if (el != null) {\n      const html = (() => {\n        if (typeof root.Bokeh === \"undefined\") {\n          if (error == null) {\n            return \"BokehJS is loading ...\";\n          } else {\n            return \"BokehJS failed to load.\";\n          }\n        } else {\n          const prefix = `BokehJS ${root.Bokeh.version}`;\n          if (error == null) {\n            return `${prefix} successfully loaded.`;\n          } else {\n            return `${prefix} <b>encountered errors</b> while loading and may not function as expected.`;\n          }\n        }\n      })();\n      el.innerHTML = html;\n\n      if (error != null) {\n        const wrapper = document.createElement(\"div\");\n        wrapper.style.overflow = \"auto\";\n        wrapper.style.height = \"5em\";\n        wrapper.style.resize = \"vertical\";\n        const content = document.createElement(\"div\");\n        content.style.fontFamily = \"monospace\";\n        content.style.whiteSpace = \"pre-wrap\";\n        content.style.backgroundColor = \"rgb(255, 221, 221)\";\n        content.textContent = error.stack ?? error.toString();\n        wrapper.append(content);\n        el.append(wrapper);\n      }\n    } else if (Date.now() < root._bokeh_timeout) {\n      setTimeout(() => display_loaded(error), 100);\n    }\n  }\n\n  function run_callbacks() {\n    try {\n      root._bokeh_onload_callbacks.forEach(function(callback) {\n        if (callback != null)\n          callback();\n      });\n    } finally {\n      delete root._bokeh_onload_callbacks\n    }\n    console.debug(\"Bokeh: all callbacks have finished\");\n  }\n\n  function load_libs(css_urls, js_urls, callback) {\n    if (css_urls == null) css_urls = [];\n    if (js_urls == null) js_urls = [];\n\n    root._bokeh_onload_callbacks.push(callback);\n    if (root._bokeh_is_loading > 0) {\n      console.debug(\"Bokeh: BokehJS is being loaded, scheduling callback at\", now());\n      return null;\n    }\n    if (js_urls == null || js_urls.length === 0) {\n      run_callbacks();\n      return null;\n    }\n    console.debug(\"Bokeh: BokehJS not loaded, scheduling load and callback at\", now());\n    root._bokeh_is_loading = css_urls.length + js_urls.length;\n\n    function on_load() {\n      root._bokeh_is_loading--;\n      if (root._bokeh_is_loading === 0) {\n        console.debug(\"Bokeh: all BokehJS libraries/stylesheets loaded\");\n        run_callbacks()\n      }\n    }\n\n    function on_error(url) {\n      console.error(\"failed to load \" + url);\n    }\n\n    for (let i = 0; i < css_urls.length; i++) {\n      const url = css_urls[i];\n      const element = document.createElement(\"link\");\n      element.onload = on_load;\n      element.onerror = on_error.bind(null, url);\n      element.rel = \"stylesheet\";\n      element.type = \"text/css\";\n      element.href = url;\n      console.debug(\"Bokeh: injecting link tag for BokehJS stylesheet: \", url);\n      document.body.appendChild(element);\n    }\n\n    for (let i = 0; i < js_urls.length; i++) {\n      const url = js_urls[i];\n      const element = document.createElement('script');\n      element.onload = on_load;\n      element.onerror = on_error.bind(null, url);\n      element.async = false;\n      element.src = url;\n      console.debug(\"Bokeh: injecting script tag for BokehJS library: \", url);\n      document.head.appendChild(element);\n    }\n  };\n\n  function inject_raw_css(css) {\n    const element = document.createElement(\"style\");\n    element.appendChild(document.createTextNode(css));\n    document.body.appendChild(element);\n  }\n\n  const js_urls = [\"https://cdn.bokeh.org/bokeh/release/bokeh-3.5.0.min.js\", \"https://cdn.bokeh.org/bokeh/release/bokeh-gl-3.5.0.min.js\", \"https://cdn.bokeh.org/bokeh/release/bokeh-widgets-3.5.0.min.js\", \"https://cdn.bokeh.org/bokeh/release/bokeh-tables-3.5.0.min.js\", \"https://cdn.bokeh.org/bokeh/release/bokeh-mathjax-3.5.0.min.js\"];\n  const css_urls = [];\n\n  const inline_js = [    function(Bokeh) {\n      Bokeh.set_log_level(\"info\");\n    },\nfunction(Bokeh) {\n    }\n  ];\n\n  function run_inline_js() {\n    if (root.Bokeh !== undefined || force === true) {\n      try {\n            for (let i = 0; i < inline_js.length; i++) {\n      inline_js[i].call(root, root.Bokeh);\n    }\n\n      } catch (error) {display_loaded(error);throw error;\n      }if (force === true) {\n        display_loaded();\n      }} else if (Date.now() < root._bokeh_timeout) {\n      setTimeout(run_inline_js, 100);\n    } else if (!root._bokeh_failed_load) {\n      console.log(\"Bokeh: BokehJS failed to load within specified timeout.\");\n      root._bokeh_failed_load = true;\n    } else if (force !== true) {\n      const cell = $(document.getElementById(\"f1c7d444-00d7-4c90-9581-0b720d42b3fd\")).parents('.cell').data().cell;\n      cell.output_area.append_execute_result(NB_LOAD_WARNING)\n    }\n  }\n\n  if (root._bokeh_is_loading === 0) {\n    console.debug(\"Bokeh: BokehJS loaded, going straight to plotting\");\n    run_inline_js();\n  } else {\n    load_libs(css_urls, js_urls, function() {\n      console.debug(\"Bokeh: BokehJS plotting callback run at\", now());\n      run_inline_js();\n    });\n  }\n}(window));",
      "application/vnd.bokehjs_load.v0+json": ""
     },
     "metadata": {},
     "output_type": "display_data"
    }
   ],
   "source": [
    "__author__ = ['Rafael Celestre']\n",
    "__contact__ = 'rafael.celestre@synchrotron-soleil.fr'\n",
    "__license__ = 'GPL-3.0'\n",
    "__copyright__ = 'Synchrotron SOLEIL, Saint Aubin, France'\n",
    "__created__ = '23/JUL/2024'\n",
    "__changed__ = '25/JUL/2024'\n",
    "\n",
    "import ctypes\n",
    "\n",
    "import numpy as np\n",
    "import pandas as pd\n",
    "import pyoptix\n",
    "import pyoptix.classes as px\n",
    "from pyoptix.ui_objects import plot_spd_plotly\n",
    "from scipy.constants import c, degree, eV, h, micro, milli, nano, pi, pico\n",
    "from typing import List\n",
    "\n",
    "hc = h*c/eV\n",
    "\n",
    "pyoptix.set_aperture_active(False)\n",
    "pyoptix.output_notebook()\n",
    "# benchmarking tools\n",
    "# %load_ext autoreload\n",
    "# %autoreload 2\n",
    "# %matplotlib widget"
   ]
  },
  {
   "cell_type": "markdown",
   "metadata": {},
   "source": [
    "<a id=\"def_opt\"></a>\n",
    "## Optical elements declaration\n",
    "[Back to the top](#toc)"
   ]
  },
  {
   "cell_type": "code",
   "execution_count": 2,
   "metadata": {},
   "outputs": [],
   "source": [
    "# beamline class\n",
    "Hermes = px.Beamline(name=\"Hermes - current\")\n",
    "\n",
    "# ------------------\n",
    "# source\n",
    "# ------------------\n",
    "ondulator_LE = px.UndulatorSource(name=\"ond_LE\")         # low energy \n",
    "ondulator_HE = px.UndulatorSource(name=\"ond_HE\")         # high energy\n",
    "\n",
    "# ------------------\n",
    "# optical elements\n",
    "# ------------------\n",
    "pupil = px.PlaneFilm(name=\"pupil\")\n",
    "\n",
    "# M1\n",
    "m1a = px.PlaneMirror(name=\"M1A\")\n",
    "m1b = px.ToroidalMirror(name=\"M1B\")\n",
    "m1c = px.ToroidalMirror(name=\"M1C\")\n",
    "\n",
    "# monochromator\n",
    "mono_entrance_slit = px.PlaneFilm(name=\"foc_hor\")\n",
    "grating_450 = px.PlaneHoloGrating(name=\"grating_450\")\n",
    "grating_600 = px.PlaneHoloGrating(name=\"grating_600\")\n",
    "m2 = px.PlaneMirror(name=\"M2\")\n",
    "m3 = px.ToroidalMirror(name=\"M3\")\n",
    "mono_exit_slit = px.PlaneFilm(name=\"foc_ver\")\n",
    "\n",
    "# branch STXM\n",
    "m4 = px.ToroidalMirror(name=\"M4\")\n",
    "vs_m4 = px.PlaneFilm(name=\"virtual_source_M4\")\n",
    "\n",
    "# branch PEEM\n",
    "m5 = px.CylindricalMirror(name=\"M5\")\n",
    "vs_m5 = px.PlaneFilm(name=\"virtual_source_M5\")\n",
    "m6 = px.ConicCylindricalMirror(name=\"M6\")\n",
    "m7 = px.ConicCylindricalMirror(name=\"M7\")\n",
    "\n",
    "# ------------------\n",
    "# endstations\n",
    "# ------------------\n",
    "peem = px.PlaneFilm(name=\"PEEM\")\n",
    "stxm = px.PlaneFilm(name=\"STXM\")"
   ]
  },
  {
   "cell_type": "code",
   "execution_count": 3,
   "metadata": {},
   "outputs": [
    {
     "name": "stdout",
     "output_type": "stream",
     "text": [
      "LE_G450_PEEM :\n",
      "\t ond_LE -> pupil -> M1A -> M1B -> foc_hor -> grating_450 -> M2 -> M3 -> foc_ver -> M5 -> virtual_source_M5 -> M6 -> M7 -> PEEM \n",
      "LE_G450_STXM :\n",
      "\t ond_LE -> pupil -> M1A -> M1B -> foc_hor -> grating_450 -> M2 -> M3 -> foc_ver -> M4 -> virtual_source_M4 -> STXM \n",
      "HE_G600_PEEM :\n",
      "\t ond_HE -> pupil -> M1A -> M1C -> foc_hor -> grating_600 -> M2 -> M3 -> foc_ver -> M5 -> virtual_source_M5 -> M6 -> M7 -> PEEM \n",
      "HE_G600_STXM :\n",
      "\t ond_HE -> pupil -> M1A -> M1C -> foc_hor -> grating_600 -> M2 -> M3 -> foc_ver -> M4 -> virtual_source_M4 -> STXM \n"
     ]
    }
   ],
   "source": [
    "branches = [[m5, vs_m5, m6, m7, peem],\n",
    "            [m4, vs_m4, stxm]]\n",
    "\n",
    "for undulator, m1bis, grating in [(ondulator_LE, m1b, grating_450), (ondulator_HE, m1c, grating_600)]:\n",
    "    for branch in branches:\n",
    "        chain_name = f\"{undulator.name.split('_')[1]}_G{grating.name.split('_')[1]}_{branch[-1].name}\"\n",
    "        Hermes.chains[chain_name] = [\n",
    "            undulator, pupil, m1a, m1bis, mono_entrance_slit, grating, m2, m3,\n",
    "            mono_exit_slit\n",
    "        ] + branch\n",
    "\n",
    "for chain_name in Hermes.chains:\n",
    "    print(chain_name,\":\\n\\t\",Hermes.chains[chain_name])"
   ]
  },
  {
   "cell_type": "markdown",
   "metadata": {},
   "source": [
    "<a id=\"def_param\"></a>\n",
    "## Definition of optical parameters\n",
    "\n",
    "In this section we define the static parameters of the optical elements. Characteristics that change with \n",
    "either configuration or energy are defined in the [Alignment scripts](#alignement) section.\n",
    "\n",
    "[Back to the top](#toc)"
   ]
  },
  {
   "cell_type": "code",
   "execution_count": 4,
   "metadata": {},
   "outputs": [],
   "source": [
    "number_of_rays = 5000"
   ]
  },
  {
   "cell_type": "markdown",
   "metadata": {},
   "source": [
    "### Low energy undulator (**HU64**)"
   ]
  },
  {
   "cell_type": "code",
   "execution_count": 5,
   "metadata": {},
   "outputs": [
    {
     "name": "stdout",
     "output_type": "stream",
     "text": [
      "electron beam:\n",
      "            >> x/xp = 229.94 um vs. 30.60 urad\n",
      "            >> y/yp = 12.91 um vs. 4.82 urad\n"
     ]
    }
   ],
   "source": [
    "e_beam = px.ElectronBeam()\n",
    "e_beam.from_twiss(energy=2.75, energy_spread=0.1025/100, current=0.500,\n",
    "                  emittance=3.94*nano, coupling=1/100,\n",
    "                  beta_x=4.7890, eta_x= 0.1804, etap_x= 0.0007, alpha_x=-0.3858,\n",
    "                  beta_y=3.7497, eta_y=-0.0044, etap_y=-0.0025, alpha_y=-0.7746)\n",
    "e_beam.print_rms()\n",
    "\n",
    "hu64 = px.MagneticStructure(period_length=64e-3, number_of_periods=28)\n",
    "\n",
    "ondulator_LE.electron_beam = e_beam\n",
    "ondulator_LE.magnetic_structure = hu64\n",
    "\n",
    "ondulator_LE.write_syned_config(r\".\\resources\\soleil_hu64\",\"Soleil - HU64\")"
   ]
  },
  {
   "cell_type": "markdown",
   "metadata": {},
   "source": [
    "### High energy undulator (**HU42**)"
   ]
  },
  {
   "cell_type": "code",
   "execution_count": 6,
   "metadata": {},
   "outputs": [
    {
     "name": "stdout",
     "output_type": "stream",
     "text": [
      "electron beam:\n",
      "            >> x/xp = 223.73 um vs. 30.60 urad\n",
      "            >> y/yp = 9.56 um vs. 4.82 urad\n"
     ]
    }
   ],
   "source": [
    "e_beam = px.ElectronBeam()\n",
    "e_beam.from_twiss(energy=2.75, energy_spread=0.1025/100, current=0.500,\n",
    "                  emittance=3.94*nano, coupling=1/100,\n",
    "                  beta_x=4.1825, eta_x=0.1792, etap_x= 0.0007, alpha_x=0.0578,\n",
    "                  beta_y=2.3439, eta_y=0.0001, etap_y=-0.0025, alpha_y=0.0143)\n",
    "e_beam.print_rms()\n",
    "\n",
    "hu42 = px.MagneticStructure(period_length=42e-3, number_of_periods=42)\n",
    "\n",
    "ondulator_HE.electron_beam = e_beam\n",
    "ondulator_HE.magnetic_structure = hu42\n",
    "\n",
    "ondulator_HE.write_syned_config(r\".\\resources\\soleil_hu42\",\"Soleil - HU42\")"
   ]
  },
  {
   "cell_type": "markdown",
   "metadata": {},
   "source": [
    "### Entrance pupil\n",
    "[Back to the top](#toc)"
   ]
  },
  {
   "cell_type": "code",
   "execution_count": 7,
   "metadata": {},
   "outputs": [],
   "source": [
    "pupil.distance_from_previous = 20\n",
    "pupil.recording_mode = px.RecordingMode.recording_output\n",
    "pupil.next = m1a"
   ]
  },
  {
   "cell_type": "markdown",
   "metadata": {},
   "source": [
    "### M1\n",
    "\n",
    "[Back to the top](#toc)"
   ]
  },
  {
   "cell_type": "code",
   "execution_count": 8,
   "metadata": {},
   "outputs": [
    {
     "name": "stdout",
     "output_type": "stream",
     "text": [
      "Distance from M1B to M1A: 470.422 mm\n",
      "- proj. dist. into the optical axis: 468.632 mm\n",
      "\n",
      "Distance from M1C to M1A: 979.089 mm\n",
      "- proj. dist. into the optical axis: 978.230 mm\n",
      "\n"
     ]
    }
   ],
   "source": [
    "m1_grazing_angle = [2.5*degree, 1.2*degree]\n",
    "\n",
    "m1_distance = px.M1_triad_distances(incident_angle=m1_grazing_angle,\n",
    "                                    transverse_distance=41e-3, \n",
    "                                    verbose=1)"
   ]
  },
  {
   "cell_type": "markdown",
   "metadata": {},
   "source": [
    "#### - M1A"
   ]
  },
  {
   "cell_type": "code",
   "execution_count": 9,
   "metadata": {},
   "outputs": [],
   "source": [
    "m1a.distance_from_previous = 0\n",
    "m1a.phi = -90*degree # rad\n",
    "m1a.recording_mode = px.RecordingMode.recording_output"
   ]
  },
  {
   "cell_type": "markdown",
   "metadata": {},
   "source": [
    "#### - M1B"
   ]
  },
  {
   "cell_type": "code",
   "execution_count": 10,
   "metadata": {},
   "outputs": [],
   "source": [
    "m1b.distance_from_previous = m1_distance[0][0]\n",
    "m1b.theta = m1_grazing_angle[0]\n",
    "m1b.phi = 180*degree   \n",
    "m1b.minor_curvature = 1/1.802572 # m-1\n",
    "m1b.major_curvature = 1/126.7433 # m-1\n",
    "m1b.recording_mode = px.RecordingMode.recording_output\n",
    "m1b.next = mono_entrance_slit"
   ]
  },
  {
   "cell_type": "markdown",
   "metadata": {},
   "source": [
    "#### - M1C"
   ]
  },
  {
   "cell_type": "code",
   "execution_count": 11,
   "metadata": {},
   "outputs": [],
   "source": [
    "m1c.distance_from_previous = m1_distance[1][0]\n",
    "m1c.theta = m1_grazing_angle[1] \n",
    "m1c.phi = 180*degree   \n",
    "m1c.minor_curvature = 1/0.8870043 # m-1\n",
    "m1c.major_curvature = 1/229.5203 # m-1\n",
    "m1c.recording_mode = px.RecordingMode.recording_output\n",
    "m1c.next = mono_entrance_slit"
   ]
  },
  {
   "cell_type": "markdown",
   "metadata": {},
   "source": [
    "### Monochromator\n",
    "\n",
    "[Back to the top](#toc)"
   ]
  },
  {
   "cell_type": "markdown",
   "metadata": {},
   "source": [
    "#### Mono entrance slit"
   ]
  },
  {
   "cell_type": "code",
   "execution_count": 12,
   "metadata": {},
   "outputs": [],
   "source": [
    "mono_entrance_slit.distance_from_previous = 2.7\n",
    "mono_entrance_slit.phi = -90*degree\n",
    "mono_entrance_slit.recording_mode = px.RecordingMode.recording_output"
   ]
  },
  {
   "cell_type": "markdown",
   "metadata": {},
   "source": [
    "#### Grating 450 l/mm"
   ]
  },
  {
   "cell_type": "code",
   "execution_count": 13,
   "metadata": {},
   "outputs": [
    {
     "name": "stdout",
     "output_type": "stream",
     "text": [
      "C hologram info for grating_450: \n",
      "\t groove/m = 450000.0094938453 + -4913.516826031962 * x + -18413.013775072992 * x^2 + 4956.014995574951 * x^3\n",
      "\t line radius curvature = 2.4307455744618998\n",
      "\t line tilt = 0.0\n"
     ]
    },
    {
     "data": {
      "text/html": [
       "\n",
       "  <div id=\"eb3992db-9df3-40a5-872f-7e056ea27523\" data-root-id=\"p1001\" style=\"display: contents;\"></div>\n"
      ]
     },
     "metadata": {},
     "output_type": "display_data"
    },
    {
     "data": {
      "application/javascript": "(function(root) {\n  function embed_document(root) {\n  const docs_json = {\"d02921cd-3b54-42ec-995d-3de7c7770b91\":{\"version\":\"3.5.0\",\"title\":\"Bokeh Application\",\"roots\":[{\"type\":\"object\",\"name\":\"Figure\",\"id\":\"p1001\",\"attributes\":{\"width\":1000,\"height\":300,\"x_range\":{\"type\":\"object\",\"name\":\"DataRange1d\",\"id\":\"p1002\"},\"y_range\":{\"type\":\"object\",\"name\":\"DataRange1d\",\"id\":\"p1003\"},\"x_scale\":{\"type\":\"object\",\"name\":\"LinearScale\",\"id\":\"p1010\"},\"y_scale\":{\"type\":\"object\",\"name\":\"LinearScale\",\"id\":\"p1011\"},\"title\":{\"type\":\"object\",\"name\":\"Title\",\"id\":\"p1008\"},\"renderers\":[{\"type\":\"object\",\"name\":\"GlyphRenderer\",\"id\":\"p1041\",\"attributes\":{\"data_source\":{\"type\":\"object\",\"name\":\"ColumnDataSource\",\"id\":\"p1035\",\"attributes\":{\"selected\":{\"type\":\"object\",\"name\":\"Selection\",\"id\":\"p1036\",\"attributes\":{\"indices\":[],\"line_indices\":[]}},\"selection_policy\":{\"type\":\"object\",\"name\":\"UnionRenderers\",\"id\":\"p1037\"},\"data\":{\"type\":\"map\",\"entries\":[[\"x\",{\"type\":\"ndarray\",\"array\":{\"type\":\"bytes\",\"data\":\"mpmZmZmZqb98bolTv+emv19DeQ3lNaS/QRhpxwqEob9H2rECYaSdvwyEkXasQJi/0C1x6vfckr8sr6G8hvKKv7QCYaQdK4C/8FiBMNKOZb/gWIEw0o5lP7ACYaQdK4A/KK+hvIbyij/QLXHq99ySPwiEkXasQJg/RNqxAmGknT9AGGnHCoShP15DeQ3lNaQ/fG6JU7/npj+amZmZmZmpPw==\"},\"shape\":[20],\"dtype\":\"float64\",\"order\":\"little\"}],[\"y\",{\"type\":\"ndarray\",\"array\":{\"type\":\"bytes\",\"data\":\"XkKUKFx6G0H6syYiGnobQVUpW+HTeRtBvrO+aol5G0GvxtrCOnkbQSU6Ne7neBtB7ktQ8ZB4G0F7oarQNXgbQWdJv5DWdxtBor0FNnN3G0GH5PHEC3cbQQET9EGgdhtBWw55sTB2G0FwDeoXvXUbQSm7rHlFdRtBfzcj28l0G0GvGaxASnQbQelxoq7GcxtBK8tdKT9zG0GKLDK1s3IbQQ==\"},\"shape\":[20],\"dtype\":\"float64\",\"order\":\"little\"}]]}}},\"view\":{\"type\":\"object\",\"name\":\"CDSView\",\"id\":\"p1042\",\"attributes\":{\"filter\":{\"type\":\"object\",\"name\":\"AllIndices\",\"id\":\"p1043\"}}},\"glyph\":{\"type\":\"object\",\"name\":\"Line\",\"id\":\"p1038\",\"attributes\":{\"x\":{\"type\":\"field\",\"field\":\"x\"},\"y\":{\"type\":\"field\",\"field\":\"y\"},\"line_color\":\"#1f77b4\"}},\"nonselection_glyph\":{\"type\":\"object\",\"name\":\"Line\",\"id\":\"p1039\",\"attributes\":{\"x\":{\"type\":\"field\",\"field\":\"x\"},\"y\":{\"type\":\"field\",\"field\":\"y\"},\"line_color\":\"#1f77b4\",\"line_alpha\":0.1}},\"muted_glyph\":{\"type\":\"object\",\"name\":\"Line\",\"id\":\"p1040\",\"attributes\":{\"x\":{\"type\":\"field\",\"field\":\"x\"},\"y\":{\"type\":\"field\",\"field\":\"y\"},\"line_color\":\"#1f77b4\",\"line_alpha\":0.2}}}},{\"type\":\"object\",\"name\":\"GlyphRenderer\",\"id\":\"p1052\",\"attributes\":{\"data_source\":{\"type\":\"object\",\"name\":\"ColumnDataSource\",\"id\":\"p1046\",\"attributes\":{\"selected\":{\"type\":\"object\",\"name\":\"Selection\",\"id\":\"p1047\",\"attributes\":{\"indices\":[],\"line_indices\":[]}},\"selection_policy\":{\"type\":\"object\",\"name\":\"UnionRenderers\",\"id\":\"p1048\"},\"data\":{\"type\":\"map\",\"entries\":[[\"x\",{\"type\":\"ndarray\",\"array\":{\"type\":\"bytes\",\"data\":\"mpmZmZmZqb98bolTv+emv19DeQ3lNaS/QRhpxwqEob9H2rECYaSdvwyEkXasQJi/0C1x6vfckr8sr6G8hvKKv7QCYaQdK4C/8FiBMNKOZb/gWIEw0o5lP7ACYaQdK4A/KK+hvIbyij/QLXHq99ySPwiEkXasQJg/RNqxAmGknT9AGGnHCoShP15DeQ3lNaQ/fG6JU7/npj+amZmZmZmpPw==\"},\"shape\":[20],\"dtype\":\"float64\",\"order\":\"little\"}],[\"y\",{\"type\":\"ndarray\",\"array\":{\"type\":\"bytes\",\"data\":\"y/hZKVx6G0FNIhwiGnobQWGW6ODTeRtBMLMvaol5G0Hi1mHCOnkbQZ9f7+3neBtBj6tI8ZB4G0HbGN7QNXgbQasFIJHWdxtBJ9B+NnN3G0F31mrFC3cbQcV2VEKgdhtBNw+ssTB2G0H4/eEXvXUbQS2hZnlFdRtBAVeq2sl0G0GbfR1ASnQbQSRzMK7GcxtBw5VTKT9zG0GiQ/e1s3IbQQ==\"},\"shape\":[20],\"dtype\":\"float64\",\"order\":\"little\"}]]}}},\"view\":{\"type\":\"object\",\"name\":\"CDSView\",\"id\":\"p1053\",\"attributes\":{\"filter\":{\"type\":\"object\",\"name\":\"AllIndices\",\"id\":\"p1054\"}}},\"glyph\":{\"type\":\"object\",\"name\":\"Line\",\"id\":\"p1049\",\"attributes\":{\"x\":{\"type\":\"field\",\"field\":\"x\"},\"y\":{\"type\":\"field\",\"field\":\"y\"},\"line_color\":\"red\"}},\"nonselection_glyph\":{\"type\":\"object\",\"name\":\"Line\",\"id\":\"p1050\",\"attributes\":{\"x\":{\"type\":\"field\",\"field\":\"x\"},\"y\":{\"type\":\"field\",\"field\":\"y\"},\"line_color\":\"red\",\"line_alpha\":0.1}},\"muted_glyph\":{\"type\":\"object\",\"name\":\"Line\",\"id\":\"p1051\",\"attributes\":{\"x\":{\"type\":\"field\",\"field\":\"x\"},\"y\":{\"type\":\"field\",\"field\":\"y\"},\"line_color\":\"red\",\"line_alpha\":0.2}}}}],\"toolbar\":{\"type\":\"object\",\"name\":\"Toolbar\",\"id\":\"p1009\",\"attributes\":{\"tools\":[{\"type\":\"object\",\"name\":\"PanTool\",\"id\":\"p1022\"},{\"type\":\"object\",\"name\":\"WheelZoomTool\",\"id\":\"p1023\",\"attributes\":{\"renderers\":\"auto\"}},{\"type\":\"object\",\"name\":\"BoxZoomTool\",\"id\":\"p1024\",\"attributes\":{\"overlay\":{\"type\":\"object\",\"name\":\"BoxAnnotation\",\"id\":\"p1025\",\"attributes\":{\"syncable\":false,\"line_color\":\"black\",\"line_alpha\":1.0,\"line_width\":2,\"line_dash\":[4,4],\"fill_color\":\"lightgrey\",\"fill_alpha\":0.5,\"level\":\"overlay\",\"visible\":false,\"left\":{\"type\":\"number\",\"value\":\"nan\"},\"right\":{\"type\":\"number\",\"value\":\"nan\"},\"top\":{\"type\":\"number\",\"value\":\"nan\"},\"bottom\":{\"type\":\"number\",\"value\":\"nan\"},\"left_units\":\"canvas\",\"right_units\":\"canvas\",\"top_units\":\"canvas\",\"bottom_units\":\"canvas\",\"handles\":{\"type\":\"object\",\"name\":\"BoxInteractionHandles\",\"id\":\"p1031\",\"attributes\":{\"all\":{\"type\":\"object\",\"name\":\"AreaVisuals\",\"id\":\"p1030\",\"attributes\":{\"fill_color\":\"white\",\"hover_fill_color\":\"lightgray\"}}}}}}}},{\"type\":\"object\",\"name\":\"SaveTool\",\"id\":\"p1032\"},{\"type\":\"object\",\"name\":\"ResetTool\",\"id\":\"p1033\"},{\"type\":\"object\",\"name\":\"HelpTool\",\"id\":\"p1034\"}]}},\"left\":[{\"type\":\"object\",\"name\":\"LinearAxis\",\"id\":\"p1017\",\"attributes\":{\"ticker\":{\"type\":\"object\",\"name\":\"BasicTicker\",\"id\":\"p1018\",\"attributes\":{\"mantissas\":[1,2,5]}},\"formatter\":{\"type\":\"object\",\"name\":\"BasicTickFormatter\",\"id\":\"p1019\"},\"axis_label\":\"Number of groove per meter\",\"major_label_policy\":{\"type\":\"object\",\"name\":\"AllLabels\",\"id\":\"p1020\"}}}],\"below\":[{\"type\":\"object\",\"name\":\"LinearAxis\",\"id\":\"p1012\",\"attributes\":{\"ticker\":{\"type\":\"object\",\"name\":\"BasicTicker\",\"id\":\"p1013\",\"attributes\":{\"mantissas\":[1,2,5]}},\"formatter\":{\"type\":\"object\",\"name\":\"BasicTickFormatter\",\"id\":\"p1014\"},\"axis_label\":\"Distance from center (m)\",\"major_label_policy\":{\"type\":\"object\",\"name\":\"AllLabels\",\"id\":\"p1015\"}}}],\"center\":[{\"type\":\"object\",\"name\":\"Grid\",\"id\":\"p1016\",\"attributes\":{\"axis\":{\"id\":\"p1012\"}}},{\"type\":\"object\",\"name\":\"Grid\",\"id\":\"p1021\",\"attributes\":{\"dimension\":1,\"axis\":{\"id\":\"p1017\"}}},{\"type\":\"object\",\"name\":\"Legend\",\"id\":\"p1044\",\"attributes\":{\"items\":[{\"type\":\"object\",\"name\":\"LegendItem\",\"id\":\"p1045\",\"attributes\":{\"label\":{\"type\":\"value\",\"value\":\"local #groove/m\"},\"renderers\":[{\"id\":\"p1041\"}]}},{\"type\":\"object\",\"name\":\"LegendItem\",\"id\":\"p1055\",\"attributes\":{\"label\":{\"type\":\"value\",\"value\":\"fit (mm-1) : [ 4.95551221e-09 -1.84065728e-05 -4.91351559e-03  4.50000000e+02]\"},\"renderers\":[{\"id\":\"p1052\"}]}}]}}]}}]}};\n  const render_items = [{\"docid\":\"d02921cd-3b54-42ec-995d-3de7c7770b91\",\"roots\":{\"p1001\":\"eb3992db-9df3-40a5-872f-7e056ea27523\"},\"root_ids\":[\"p1001\"]}];\n  void root.Bokeh.embed.embed_items_notebook(docs_json, render_items);\n  }\n  if (root.Bokeh !== undefined) {\n    embed_document(root);\n  } else {\n    let attempts = 0;\n    const timer = setInterval(function(root) {\n      if (root.Bokeh !== undefined) {\n        clearInterval(timer);\n        embed_document(root);\n      } else {\n        attempts++;\n        if (attempts > 100) {\n          clearInterval(timer);\n          console.log(\"Bokeh: ERROR: Unable to run BokehJS code because BokehJS library is missing\");\n        }\n      }\n    }, 10, root)\n  }\n})(window);",
      "application/vnd.bokehjs_exec.v0+json": ""
     },
     "metadata": {
      "application/vnd.bokehjs_exec.v0+json": {
       "id": "p1001"
      }
     },
     "output_type": "display_data"
    }
   ],
   "source": [
    "grating_450.distance_from_previous = 0.6\n",
    "grating_450.line_density = 450/milli\n",
    "grating_450.inverse_distance1=-0.1761099\n",
    "grating_450.inverse_distance2=-0.1111111\n",
    "grating_450.elevation_angle1=-min(np.arccos(0.7986355-0.157995),np.arccos(0.7986355))\n",
    "grating_450.recording_wavelength=351.1*nano\n",
    "grating_450.show_vls_law(100e-3, 3)\n",
    "grating_450.order_align = 1\n",
    "grating_450.order_use = 1\n",
    "grating_450.recording_mode = px.RecordingMode.recording_output\n",
    "grating_450.next = m2"
   ]
  },
  {
   "cell_type": "markdown",
   "metadata": {},
   "source": [
    "#### Grating 600 l/mm"
   ]
  },
  {
   "cell_type": "code",
   "execution_count": 14,
   "metadata": {},
   "outputs": [
    {
     "name": "stdout",
     "output_type": "stream",
     "text": [
      "C hologram info for grating_600: \n",
      "\t groove/m = 600000.0163698791 + -483.5964154418325 * x + -29279.683600246906 * x^2 + 8137.222845494747 * x^3\n",
      "\t line radius curvature = 2.363162423410606\n",
      "\t line tilt = 0.0\n"
     ]
    },
    {
     "data": {
      "text/html": [
       "\n",
       "  <div id=\"c745dbc6-c2f5-45fb-a167-563838f29649\" data-root-id=\"p1060\" style=\"display: contents;\"></div>\n"
      ]
     },
     "metadata": {},
     "output_type": "display_data"
    },
    {
     "data": {
      "application/javascript": "(function(root) {\n  function embed_document(root) {\n  const docs_json = {\"321a1453-9c2a-4ce1-80dc-7a62369d49f7\":{\"version\":\"3.5.0\",\"title\":\"Bokeh Application\",\"roots\":[{\"type\":\"object\",\"name\":\"Figure\",\"id\":\"p1060\",\"attributes\":{\"width\":1000,\"height\":300,\"x_range\":{\"type\":\"object\",\"name\":\"DataRange1d\",\"id\":\"p1061\"},\"y_range\":{\"type\":\"object\",\"name\":\"DataRange1d\",\"id\":\"p1062\"},\"x_scale\":{\"type\":\"object\",\"name\":\"LinearScale\",\"id\":\"p1069\"},\"y_scale\":{\"type\":\"object\",\"name\":\"LinearScale\",\"id\":\"p1070\"},\"title\":{\"type\":\"object\",\"name\":\"Title\",\"id\":\"p1067\"},\"renderers\":[{\"type\":\"object\",\"name\":\"GlyphRenderer\",\"id\":\"p1100\",\"attributes\":{\"data_source\":{\"type\":\"object\",\"name\":\"ColumnDataSource\",\"id\":\"p1094\",\"attributes\":{\"selected\":{\"type\":\"object\",\"name\":\"Selection\",\"id\":\"p1095\",\"attributes\":{\"indices\":[],\"line_indices\":[]}},\"selection_policy\":{\"type\":\"object\",\"name\":\"UnionRenderers\",\"id\":\"p1096\"},\"data\":{\"type\":\"map\",\"entries\":[[\"x\",{\"type\":\"ndarray\",\"array\":{\"type\":\"bytes\",\"data\":\"mpmZmZmZqb98bolTv+emv19DeQ3lNaS/QRhpxwqEob9H2rECYaSdvwyEkXasQJi/0C1x6vfckr8sr6G8hvKKv7QCYaQdK4C/8FiBMNKOZb/gWIEw0o5lP7ACYaQdK4A/KK+hvIbyij/QLXHq99ySPwiEkXasQJg/RNqxAmGknT9AGGnHCoShP15DeQ3lNaQ/fG6JU7/npj+amZmZmZmpPw==\"},\"shape\":[20],\"dtype\":\"float64\",\"order\":\"little\"}],[\"y\",{\"type\":\"ndarray\",\"array\":{\"type\":\"bytes\",\"data\":\"oopC+xtPIkFUSoqoNE8iQRGuRfhJTyJB1lcy7ltPIkGtywqOak8iQUVxhtt1TyJBP5VZ2n1PIkGbajWOgk8iQV0MyPqDTyJB6X68I4JPIkF3sboMfU8iQZx/Z7l0TyJB4bJkLWlPIkEXBFFsWk8iQQAdyHlITyJBvJliWTNPIkFYCrYOG08iQVb0VJ3/TiJBa9TOCOFOIkGVH7BUv04iQQ==\"},\"shape\":[20],\"dtype\":\"float64\",\"order\":\"little\"}]]}}},\"view\":{\"type\":\"object\",\"name\":\"CDSView\",\"id\":\"p1101\",\"attributes\":{\"filter\":{\"type\":\"object\",\"name\":\"AllIndices\",\"id\":\"p1102\"}}},\"glyph\":{\"type\":\"object\",\"name\":\"Line\",\"id\":\"p1097\",\"attributes\":{\"x\":{\"type\":\"field\",\"field\":\"x\"},\"y\":{\"type\":\"field\",\"field\":\"y\"},\"line_color\":\"#1f77b4\"}},\"nonselection_glyph\":{\"type\":\"object\",\"name\":\"Line\",\"id\":\"p1098\",\"attributes\":{\"x\":{\"type\":\"field\",\"field\":\"x\"},\"y\":{\"type\":\"field\",\"field\":\"y\"},\"line_color\":\"#1f77b4\",\"line_alpha\":0.1}},\"muted_glyph\":{\"type\":\"object\",\"name\":\"Line\",\"id\":\"p1099\",\"attributes\":{\"x\":{\"type\":\"field\",\"field\":\"x\"},\"y\":{\"type\":\"field\",\"field\":\"y\"},\"line_color\":\"#1f77b4\",\"line_alpha\":0.2}}}},{\"type\":\"object\",\"name\":\"GlyphRenderer\",\"id\":\"p1111\",\"attributes\":{\"data_source\":{\"type\":\"object\",\"name\":\"ColumnDataSource\",\"id\":\"p1105\",\"attributes\":{\"selected\":{\"type\":\"object\",\"name\":\"Selection\",\"id\":\"p1106\",\"attributes\":{\"indices\":[],\"line_indices\":[]}},\"selection_policy\":{\"type\":\"object\",\"name\":\"UnionRenderers\",\"id\":\"p1107\"},\"data\":{\"type\":\"map\",\"entries\":[[\"x\",{\"type\":\"ndarray\",\"array\":{\"type\":\"bytes\",\"data\":\"mpmZmZmZqb98bolTv+emv19DeQ3lNaS/QRhpxwqEob9H2rECYaSdvwyEkXasQJi/0C1x6vfckr8sr6G8hvKKv7QCYaQdK4C/8FiBMNKOZb/gWIEw0o5lP7ACYaQdK4A/KK+hvIbyij/QLXHq99ySPwiEkXasQJg/RNqxAmGknT9AGGnHCoShP15DeQ3lNaQ/fG6JU7/npj+amZmZmZmpPw==\"},\"shape\":[20],\"dtype\":\"float64\",\"order\":\"little\"}],[\"y\",{\"type\":\"ndarray\",\"array\":{\"type\":\"bytes\",\"data\":\"sADt+xtPIkFwLYGoNE8iQbjl4vdJTyJBIg237VtPIkFIh6KNak8iQcc3Stt1TyJBOQJT2n1PIkE3ymGOgk8iQV5zG/uDTyJBSOEkJIJPIkGQ9yINfU8iQdGZurl0TyJBpauQLWlPIkGoEEpsWk8iQXOsi3lITyJBo2L6WDNPIkHRFjsOG08iQZms8pz/TiJBlgfGCOFOIkFhC1pVv04iQQ==\"},\"shape\":[20],\"dtype\":\"float64\",\"order\":\"little\"}]]}}},\"view\":{\"type\":\"object\",\"name\":\"CDSView\",\"id\":\"p1112\",\"attributes\":{\"filter\":{\"type\":\"object\",\"name\":\"AllIndices\",\"id\":\"p1113\"}}},\"glyph\":{\"type\":\"object\",\"name\":\"Line\",\"id\":\"p1108\",\"attributes\":{\"x\":{\"type\":\"field\",\"field\":\"x\"},\"y\":{\"type\":\"field\",\"field\":\"y\"},\"line_color\":\"red\"}},\"nonselection_glyph\":{\"type\":\"object\",\"name\":\"Line\",\"id\":\"p1109\",\"attributes\":{\"x\":{\"type\":\"field\",\"field\":\"x\"},\"y\":{\"type\":\"field\",\"field\":\"y\"},\"line_color\":\"red\",\"line_alpha\":0.1}},\"muted_glyph\":{\"type\":\"object\",\"name\":\"Line\",\"id\":\"p1110\",\"attributes\":{\"x\":{\"type\":\"field\",\"field\":\"x\"},\"y\":{\"type\":\"field\",\"field\":\"y\"},\"line_color\":\"red\",\"line_alpha\":0.2}}}}],\"toolbar\":{\"type\":\"object\",\"name\":\"Toolbar\",\"id\":\"p1068\",\"attributes\":{\"tools\":[{\"type\":\"object\",\"name\":\"PanTool\",\"id\":\"p1081\"},{\"type\":\"object\",\"name\":\"WheelZoomTool\",\"id\":\"p1082\",\"attributes\":{\"renderers\":\"auto\"}},{\"type\":\"object\",\"name\":\"BoxZoomTool\",\"id\":\"p1083\",\"attributes\":{\"overlay\":{\"type\":\"object\",\"name\":\"BoxAnnotation\",\"id\":\"p1084\",\"attributes\":{\"syncable\":false,\"line_color\":\"black\",\"line_alpha\":1.0,\"line_width\":2,\"line_dash\":[4,4],\"fill_color\":\"lightgrey\",\"fill_alpha\":0.5,\"level\":\"overlay\",\"visible\":false,\"left\":{\"type\":\"number\",\"value\":\"nan\"},\"right\":{\"type\":\"number\",\"value\":\"nan\"},\"top\":{\"type\":\"number\",\"value\":\"nan\"},\"bottom\":{\"type\":\"number\",\"value\":\"nan\"},\"left_units\":\"canvas\",\"right_units\":\"canvas\",\"top_units\":\"canvas\",\"bottom_units\":\"canvas\",\"handles\":{\"type\":\"object\",\"name\":\"BoxInteractionHandles\",\"id\":\"p1090\",\"attributes\":{\"all\":{\"type\":\"object\",\"name\":\"AreaVisuals\",\"id\":\"p1089\",\"attributes\":{\"fill_color\":\"white\",\"hover_fill_color\":\"lightgray\"}}}}}}}},{\"type\":\"object\",\"name\":\"SaveTool\",\"id\":\"p1091\"},{\"type\":\"object\",\"name\":\"ResetTool\",\"id\":\"p1092\"},{\"type\":\"object\",\"name\":\"HelpTool\",\"id\":\"p1093\"}]}},\"left\":[{\"type\":\"object\",\"name\":\"LinearAxis\",\"id\":\"p1076\",\"attributes\":{\"ticker\":{\"type\":\"object\",\"name\":\"BasicTicker\",\"id\":\"p1077\",\"attributes\":{\"mantissas\":[1,2,5]}},\"formatter\":{\"type\":\"object\",\"name\":\"BasicTickFormatter\",\"id\":\"p1078\"},\"axis_label\":\"Number of groove per meter\",\"major_label_policy\":{\"type\":\"object\",\"name\":\"AllLabels\",\"id\":\"p1079\"}}}],\"below\":[{\"type\":\"object\",\"name\":\"LinearAxis\",\"id\":\"p1071\",\"attributes\":{\"ticker\":{\"type\":\"object\",\"name\":\"BasicTicker\",\"id\":\"p1072\",\"attributes\":{\"mantissas\":[1,2,5]}},\"formatter\":{\"type\":\"object\",\"name\":\"BasicTickFormatter\",\"id\":\"p1073\"},\"axis_label\":\"Distance from center (m)\",\"major_label_policy\":{\"type\":\"object\",\"name\":\"AllLabels\",\"id\":\"p1074\"}}}],\"center\":[{\"type\":\"object\",\"name\":\"Grid\",\"id\":\"p1075\",\"attributes\":{\"axis\":{\"id\":\"p1071\"}}},{\"type\":\"object\",\"name\":\"Grid\",\"id\":\"p1080\",\"attributes\":{\"dimension\":1,\"axis\":{\"id\":\"p1076\"}}},{\"type\":\"object\",\"name\":\"Legend\",\"id\":\"p1103\",\"attributes\":{\"items\":[{\"type\":\"object\",\"name\":\"LegendItem\",\"id\":\"p1104\",\"attributes\":{\"label\":{\"type\":\"value\",\"value\":\"local #groove/m\"},\"renderers\":[{\"id\":\"p1100\"}]}},{\"type\":\"object\",\"name\":\"LegendItem\",\"id\":\"p1114\",\"attributes\":{\"label\":{\"type\":\"value\",\"value\":\"fit (mm-1) : [ 8.13635026e-09 -2.92685776e-05 -4.83594275e-04  6.00000001e+02]\"},\"renderers\":[{\"id\":\"p1111\"}]}}]}}]}}]}};\n  const render_items = [{\"docid\":\"321a1453-9c2a-4ce1-80dc-7a62369d49f7\",\"roots\":{\"p1060\":\"c745dbc6-c2f5-45fb-a167-563838f29649\"},\"root_ids\":[\"p1060\"]}];\n  void root.Bokeh.embed.embed_items_notebook(docs_json, render_items);\n  }\n  if (root.Bokeh !== undefined) {\n    embed_document(root);\n  } else {\n    let attempts = 0;\n    const timer = setInterval(function(root) {\n      if (root.Bokeh !== undefined) {\n        clearInterval(timer);\n        embed_document(root);\n      } else {\n        attempts++;\n        if (attempts > 100) {\n          clearInterval(timer);\n          console.log(\"Bokeh: ERROR: Unable to run BokehJS code because BokehJS library is missing\");\n        }\n      }\n    }, 10, root)\n  }\n})(window);",
      "application/vnd.bokehjs_exec.v0+json": ""
     },
     "metadata": {
      "application/vnd.bokehjs_exec.v0+json": {
       "id": "p1060"
      }
     },
     "output_type": "display_data"
    }
   ],
   "source": [
    "grating_600.distance_from_previous = 0.6\n",
    "grating_600.line_density = 600/milli\n",
    "grating_600.inverse_distance1=-0.2002547\n",
    "grating_600.inverse_distance2=-0.1111111\n",
    "grating_600.elevation_angle1=-min(np.arccos(0.7986355), np.arccos(0.7986355-0.21066))\n",
    "grating_600.recording_wavelength=351.1*nano\n",
    "grating_600.show_vls_law(100e-3, 3)\n",
    "grating_600.order_align = 1\n",
    "grating_600.order_use = 1\n",
    "grating_600.recording_mode = px.RecordingMode.recording_output\n",
    "grating_600.next = m2"
   ]
  },
  {
   "cell_type": "markdown",
   "metadata": {},
   "source": [
    "#### M2"
   ]
  },
  {
   "cell_type": "code",
   "execution_count": 15,
   "metadata": {},
   "outputs": [],
   "source": [
    "m2.phi = 180*degree \n",
    "m2.recording_mode = px.RecordingMode.recording_output\n",
    "m2.next = m3"
   ]
  },
  {
   "cell_type": "markdown",
   "metadata": {},
   "source": [
    "#### M3"
   ]
  },
  {
   "cell_type": "code",
   "execution_count": 16,
   "metadata": {},
   "outputs": [],
   "source": [
    "m3.theta = 1.2*degree\n",
    "m3.phi = -90*degree   \n",
    "m3.minor_curvature = 1/0.1462124\n",
    "m3.major_curvature = 1/83\n",
    "m3.recording_mode = px.RecordingMode.recording_output\n",
    "m3.next = mono_exit_slit"
   ]
  },
  {
   "cell_type": "markdown",
   "metadata": {},
   "source": [
    "#### Mono exit sit"
   ]
  },
  {
   "cell_type": "code",
   "execution_count": 17,
   "metadata": {},
   "outputs": [],
   "source": [
    "mono_exit_slit.distance_from_previous = 3.5\n",
    "mono_exit_slit.phi = -90*degree\n",
    "mono_exit_slit.recording_mode = px.RecordingMode.recording_output"
   ]
  },
  {
   "cell_type": "markdown",
   "metadata": {},
   "source": [
    "### STXM branch\n",
    "\n",
    "[Back to the top](#toc)"
   ]
  },
  {
   "cell_type": "markdown",
   "metadata": {},
   "source": [
    "#### M4"
   ]
  },
  {
   "cell_type": "code",
   "execution_count": 18,
   "metadata": {},
   "outputs": [],
   "source": [
    "m4.distance_from_previous = 2\n",
    "m4.theta = 1.35*degree\n",
    "m4.phi = -90*degree\n",
    "m4.minor_curvature = 1/0.0396\n",
    "m4.major_curvature = 1/79\n",
    "m4.recording_mode = px.RecordingMode.recording_output\n",
    "m4.next = vs_m4"
   ]
  },
  {
   "cell_type": "markdown",
   "metadata": {},
   "source": [
    "#### virtual source (M4)"
   ]
  },
  {
   "cell_type": "code",
   "execution_count": 19,
   "metadata": {},
   "outputs": [],
   "source": [
    "vs_m4.distance_from_previous = 1.45\n",
    "vs_m4.phi = 90*degree\n",
    "vs_m4.recording_mode = px.RecordingMode.recording_output\n",
    "vs_m4.next = stxm"
   ]
  },
  {
   "cell_type": "markdown",
   "metadata": {},
   "source": [
    "#### entrance of the microscope (just before the zone-plate)"
   ]
  },
  {
   "cell_type": "code",
   "execution_count": 20,
   "metadata": {},
   "outputs": [],
   "source": [
    "stxm.distance_from_previous = 3.5\n",
    "stxm.recording_mode = px.RecordingMode.recording_output"
   ]
  },
  {
   "cell_type": "markdown",
   "metadata": {},
   "source": [
    "### PEEM branch\n",
    "\n",
    "[Back to the top](#toc)"
   ]
  },
  {
   "cell_type": "markdown",
   "metadata": {},
   "source": [
    "#### M5"
   ]
  },
  {
   "cell_type": "code",
   "execution_count": 21,
   "metadata": {},
   "outputs": [],
   "source": [
    "m5.distance_from_previous = 1\n",
    "m5.theta = 1.75*degree\n",
    "m5.phi = 90*degree\n",
    "m5.curvature = 1/35\n",
    "m5.axis_angle = 0 \n",
    "m5.recording_mode = px.RecordingMode.recording_output\n",
    "m5.next = vs_m5"
   ]
  },
  {
   "cell_type": "markdown",
   "metadata": {},
   "source": [
    "#### virtual source (M5)"
   ]
  },
  {
   "cell_type": "code",
   "execution_count": 22,
   "metadata": {},
   "outputs": [],
   "source": [
    "vs_m5.distance_from_previous = 0.6187585\n",
    "vs_m5.phi = -90*degree\n",
    "vs_m5.recording_mode = px.RecordingMode.recording_output\n",
    "vs_m5.next = m6"
   ]
  },
  {
   "cell_type": "markdown",
   "metadata": {},
   "source": [
    "#### M6 (KB - HFM)"
   ]
  },
  {
   "cell_type": "code",
   "execution_count": 23,
   "metadata": {},
   "outputs": [],
   "source": [
    "m6.distance_from_previous = 0.6+7.781242\n",
    "m6.theta = 1.75*degree\n",
    "m6.phi = -90*degree\n",
    "m6.inverse_p = -1/(m6.distance_from_previous)\n",
    "m6.inverse_q = 1/(0.5 + 1.80)\n",
    "m6.recording_mode = px.RecordingMode.recording_output\n",
    "m6.next = m7"
   ]
  },
  {
   "cell_type": "markdown",
   "metadata": {},
   "source": [
    "#### M7 (KB - VFM)"
   ]
  },
  {
   "cell_type": "code",
   "execution_count": 24,
   "metadata": {},
   "outputs": [],
   "source": [
    "m7.distance_from_previous = 0.5\n",
    "m7.theta = 1.75*degree\n",
    "m7.phi = 90*degree\n",
    "m7.inverse_p = -1/(m7.distance_from_previous+m6.distance_from_previous+vs_m5.distance_from_previous+m5.distance_from_previous)\n",
    "m7.inverse_q = 1/(1.80)\n",
    "m7.recording_mode = px.RecordingMode.recording_output\n",
    "m7.next = peem"
   ]
  },
  {
   "cell_type": "markdown",
   "metadata": {},
   "source": [
    "#### PEEM"
   ]
  },
  {
   "cell_type": "code",
   "execution_count": 25,
   "metadata": {},
   "outputs": [],
   "source": [
    "peem.distance_from_previous = 1.8\n",
    "peem.recording_mode = px.RecordingMode.recording_output"
   ]
  },
  {
   "cell_type": "markdown",
   "metadata": {},
   "source": [
    "<a id=\"alignement\"></a>\n",
    "## Alignment scripts\n",
    "\n",
    "In this section we define the all the parameters that change with either configuration or energy. These scripts are taylored\n",
    "for each \n",
    "\n",
    "[Back to the top](#toc)"
   ]
  },
  {
   "cell_type": "markdown",
   "metadata": {},
   "source": [
    "### Undulators"
   ]
  },
  {
   "cell_type": "code",
   "execution_count": 26,
   "metadata": {},
   "outputs": [],
   "source": [
    "def align_undulator(active_chain, wavelength, **kwargs):\n",
    "    \"\"\"\n",
    "    Sets photon beam size and divergence as a function of wavelength in [m]\n",
    "    \"\"\"\n",
    "    dist_slit = kwargs.get(\"dist_slit\", 20)\n",
    "    verbose = kwargs.get(\"verbose\", False)\n",
    "\n",
    "    if verbose:\n",
    "        print(\"\\n>>>> Aligning undulator\")\n",
    "\n",
    "    active_chain[0].set_undulator(wavelength, **kwargs)\n",
    "    active_chain[1].distance_from_previous = dist_slit\n",
    "    if \"LE\" in active_chain[0].name:\n",
    "        active_chain[1].distance_from_previous -= (200.9266-199.0776)    "
   ]
  },
  {
   "cell_type": "markdown",
   "metadata": {},
   "source": [
    "### M1 triad"
   ]
  },
  {
   "cell_type": "code",
   "execution_count": 27,
   "metadata": {},
   "outputs": [],
   "source": [
    "def align_m1(active_chain, m1_distances, **kwargs):\n",
    "    \"\"\"\n",
    "    Sets the M1A angle and distance from mono entrance slit to M1bis\n",
    "    \"\"\"\n",
    "    \n",
    "    dist_slit = kwargs.get(\"dist_slit\", 2.7)\n",
    "    verbose = kwargs.get(\"verbose\", False)\n",
    "\n",
    "    if verbose:\n",
    "        print(\"\\n>>>> Aligning M1\")\n",
    "   \n",
    "    active_chain[2].theta = active_chain[3].theta\n",
    "    active_chain[2].next  = active_chain[3]\n",
    "\n",
    "    active_chain[4].distance_from_previous = dist_slit\n",
    "    if \"1B\" in active_chain[3].name:\n",
    "        active_chain[4].distance_from_previous += (m1_distances[1][1]-m1_distances[0][1])\n",
    "\n",
    "    if verbose:\n",
    "        name = active_chain[3].name\n",
    "        angle = active_chain[3].theta/degree\n",
    "        dist = active_chain[3].distance_from_previous\n",
    "        print(f\"M1A-{name} alignment: grazing angle {angle:.2f} degrees and {dist:.3f} m between them\")"
   ]
  },
  {
   "cell_type": "markdown",
   "metadata": {},
   "source": [
    "### Monochromator"
   ]
  },
  {
   "cell_type": "code",
   "execution_count": 28,
   "metadata": {},
   "outputs": [],
   "source": [
    "def align_mono(active_chain, wavelength, alignment_condition, alignment_condition_value,\n",
    "               GM2_trans_dist, GM3_proj_dist, **kwargs):\n",
    "    \"\"\"\n",
    "    Sets the grating and M2 angles and relative distances between G/M2/M3\n",
    "    \"\"\"\n",
    "\n",
    "    verbose = kwargs.get(\"verbose\", False)\n",
    "\n",
    "    grating = None\n",
    "    for oe in active_chain:\n",
    "        if \"reseau\" in oe.name.lower() or \"grating\" in oe.name.lower():\n",
    "            grating = oe\n",
    "\n",
    "    if grating is None:\n",
    "        raise ValueError(\"No grating appears in this beamline configuration\")\n",
    "    \n",
    "    gdict = px.align_grating(grating, verbose=0, \n",
    "                             apply_alignment=True, \n",
    "                             return_parameters=True,\n",
    "                             condition=alignment_condition, \n",
    "                             condition_value=alignment_condition_value, \n",
    "                             lambda_align=wavelength, \n",
    "                             order=grating.order_align,\n",
    "                             line_density=grating.line_density)\n",
    "    \n",
    "    gm2 = GM2_trans_dist/np.sin(gdict[\"deviation\"])\n",
    "    m2m3 = GM3_proj_dist-(GM2_trans_dist/np.tan(gdict[\"deviation\"]))\n",
    "\n",
    "    active_chain[6].theta = gdict[\"deviation\"]/2\n",
    "    active_chain[6].distance_from_previous = gm2\n",
    "\n",
    "    active_chain[7].distance_from_previous = m2m3\n",
    "\n",
    "    if verbose:\n",
    "        print(f\"\\n>>>> {grating.name} grating alignment for a \"+\n",
    "              f\"{alignment_condition} {alignment_condition_value} - wavelength \" +\n",
    "              f\"{wavelength/nano:.3f} nm (E={hc/wavelength:.3f} eV)\")\n",
    "        print(f\"> alpha {gdict['alpha_deg']:.3f} deg\")\n",
    "        print(f\"> beta {gdict['beta_deg']:.3f} deg\")\n",
    "        print(f\"> G-M2 distance {gm2:.3f} m\")\n",
    "        print(f\"> theta_m2 {(gdict['alpha_deg']+gdict['beta_deg'])/2:.3f} deg\")\n",
    "        print(f\"> M2-M3 distance {m2m3:.3f} m\")"
   ]
  },
  {
   "cell_type": "markdown",
   "metadata": {},
   "source": [
    "### Beamline alignment procedure"
   ]
  },
  {
   "cell_type": "code",
   "execution_count": 29,
   "metadata": {},
   "outputs": [],
   "source": [
    "def align_call(alignment_wvl, emission_wvl, alignment_condition, alignment_condition_value, \n",
    "               m1_distances, GM2_trans_dist, GM3_proj_dist, **kwargs):\n",
    "\n",
    "    align_undulator(Hermes.active_chain, emission_wvl, **kwargs)\n",
    "    align_m1(Hermes.active_chain, m1_distances, **kwargs)\n",
    "    align_mono(Hermes.active_chain, alignment_wvl, alignment_condition, \n",
    "               alignment_condition_value, GM2_trans_dist, GM3_proj_dist, **kwargs)\n",
    "Hermes.align_steps = align_call\n",
    "\n",
    "def bl_align(energy_alignment, alignment_condition, alignment_condition_value, \n",
    "               m1_distances=m1_distance, GM2_trans_dist=15e-3, GM3_proj_dist=0.55, **kwargs):\n",
    "\n",
    "    energy_radiate =  kwargs.get(\"energy_radiate\", energy_alignment)\n",
    "    dE =  kwargs.get(\"dE\", 0)\n",
    "    rays = kwargs.get(\"rays\", 500)\n",
    "\n",
    "    alignment_wvl = hc/energy_alignment\n",
    "    emission_wvl = hc/energy_radiate\n",
    "\n",
    "    Hermes.align(alignment_wvl, emission_wvl, \n",
    "                 alignment_condition=alignment_condition, \n",
    "                 alignment_condition_value=alignment_condition_value, \n",
    "                 m1_distances=m1_distances, GM2_trans_dist=GM2_trans_dist,\n",
    "                 GM3_proj_dist=GM3_proj_dist, **kwargs)\n",
    "\n",
    "    Hermes.clear_impacts(clear_source=True)\n",
    "    Hermes.active_chain[0].nrays = rays\n",
    "    if dE==0:\n",
    "        Hermes.generate(emission_wvl)\n",
    "    else:\n",
    "        for E in np.arange(energy_radiate*(1-dE), energy_radiate*(1+dE)):\n",
    "            Hermes.generate(hc/E)\n",
    "    Hermes.radiate()"
   ]
  },
  {
   "cell_type": "markdown",
   "metadata": {},
   "source": [
    "<a id=\"exec\"></a>\n",
    "## Simulation execution\n",
    "[Back to the top](#toc)"
   ]
  },
  {
   "cell_type": "markdown",
   "metadata": {},
   "source": [
    "### Available beamline configurations"
   ]
  },
  {
   "cell_type": "code",
   "execution_count": 30,
   "metadata": {},
   "outputs": [
    {
     "name": "stdout",
     "output_type": "stream",
     "text": [
      "Low energy configurations:\n",
      "\n",
      "LE_G450_PEEM :\n",
      "\t ond_LE -> pupil -> M1A -> M1B -> foc_hor -> grating_450 -> M2 -> M3 -> foc_ver -> M5 -> virtual_source_M5 -> M6 -> M7 -> PEEM \n",
      "LE_G450_STXM :\n",
      "\t ond_LE -> pupil -> M1A -> M1B -> foc_hor -> grating_450 -> M2 -> M3 -> foc_ver -> M4 -> virtual_source_M4 -> STXM \n"
     ]
    }
   ],
   "source": [
    "print(\"Low energy configurations:\\n\")\n",
    "for chain_name in Hermes.chains:    \n",
    "    if \"450\" in chain_name:\n",
    "        print(chain_name,\":\\n\\t\",Hermes.chains[chain_name])"
   ]
  },
  {
   "cell_type": "code",
   "execution_count": 31,
   "metadata": {},
   "outputs": [
    {
     "name": "stdout",
     "output_type": "stream",
     "text": [
      "High energy configurations:\n",
      "\n",
      "HE_G600_PEEM :\n",
      "\t ond_HE -> pupil -> M1A -> M1C -> foc_hor -> grating_600 -> M2 -> M3 -> foc_ver -> M5 -> virtual_source_M5 -> M6 -> M7 -> PEEM \n",
      "HE_G600_STXM :\n",
      "\t ond_HE -> pupil -> M1A -> M1C -> foc_hor -> grating_600 -> M2 -> M3 -> foc_ver -> M4 -> virtual_source_M4 -> STXM \n"
     ]
    }
   ],
   "source": [
    "print(\"High energy configurations:\\n\")\n",
    "for chain_name in Hermes.chains:    \n",
    "    if \"600\" in chain_name:\n",
    "        print(chain_name,\":\\n\\t\",Hermes.chains[chain_name])"
   ]
  },
  {
   "cell_type": "markdown",
   "metadata": {},
   "source": [
    "The beamline can be conviniently simulated by selecting an **active chain** and an energy:\n",
    "\n",
    "```python\n",
    "Hermes.active_chain = \"LE_G450_STXM\"\n",
    "bl_align(500, alignment_condition=\"cff\", alignment_condition_value=0.2, verbose=True)\n",
    "```\n",
    "\n",
    "To check the orientation of the optical elements, draw the beamline:\n",
    "\n",
    "```python\n",
    "Hermes.show_active_chain_orientation()\n",
    "Hermes.draw_active_chain()\n",
    "spots = Hermes.draw_to_scale()\n",
    "```"
   ]
  },
  {
   "cell_type": "markdown",
   "metadata": {},
   "source": [
    "<a id=\"visu\"></a>\n",
    "## Visualisations \n",
    "[Back to the top](#toc)"
   ]
  },
  {
   "cell_type": "markdown",
   "metadata": {},
   "source": [
    "### HU64 with 450 l/mm grating"
   ]
  },
  {
   "cell_type": "code",
   "execution_count": 32,
   "metadata": {},
   "outputs": [
    {
     "name": "stdout",
     "output_type": "stream",
     "text": [
      "Chaîne LE_G450_STXM:\n",
      "\tond_LE -> pupil -> M1A -> M1B -> foc_hor -> grating_450 -> M2 -> M3 -> foc_ver -> M4 -> virtual_source_M4 -> STXM \n",
      "\n",
      ">>>> Aligning undulator\n",
      "electron beam:\n",
      "            >> x/xp = 229.94 um vs. 30.60 urad\n",
      "            >> y/yp = 12.91 um vs. 4.82 urad\n",
      "filament photon beam:\n",
      "            >> u/up = 14.53 um vs. 25.67 urad\n",
      "photon beam waist positon:\n",
      "            >> hor. x ver. waist position = 0.000 m vs. 0.000 m\n",
      "convolved photon beam:\n",
      "            >> x/xp = 230.40 um vs. 39.94 urad\n",
      "            >> y/yp = 19.44 um vs. 26.12 urad\n",
      "\n",
      ">>>> Aligning M1\n",
      "M1A-M1B alignment: grazing angle 2.50 degrees and 0.470 m between them\n",
      "\n",
      ">>>> grating_450 grating alignment for a cff 0.2 - wavelength 2.480 nm (E=500.000 eV)\n",
      "> alpha 2.763 deg\n",
      "> beta 0.552 deg\n",
      "> G-M2 distance 0.259 m\n",
      "> theta_m2 1.658 deg\n",
      "> M2-M3 distance 0.291 m\n"
     ]
    }
   ],
   "source": [
    "Hermes.active_chain = \"LE_G450_STXM\"\n",
    "bl_align(500, alignment_condition=\"cff\", alignment_condition_value=0.2, verbose=True, rays=5000)"
   ]
  },
  {
   "cell_type": "code",
   "execution_count": 33,
   "metadata": {},
   "outputs": [
    {
     "data": {
      "text/plain": [
       "Element pupil of class <class 'pyoptix.classes.PlaneFilm'>\n",
       "\t at 18.150999999999982 m from ond_LE\n",
       "\t pointing to M1A\n",
       "\t oriented in pitch at 0.0 deg (deviation 180.0 deg)\n",
       "\t oriented in roll at 0.0 deg\n",
       "\t oriented in yaw at 0.0 deg"
      ]
     },
     "execution_count": 33,
     "metadata": {},
     "output_type": "execute_result"
    }
   ],
   "source": [
    "pupil\n"
   ]
  },
  {
   "cell_type": "code",
   "execution_count": null,
   "metadata": {},
   "outputs": [],
   "source": []
  }
 ],
 "metadata": {
  "kernelspec": {
   "display_name": "PyOptiX",
   "language": "python",
   "name": "python3"
  },
  "language_info": {
   "codemirror_mode": {
    "name": "ipython",
    "version": 3
   },
   "file_extension": ".py",
   "mimetype": "text/x-python",
   "name": "python",
   "nbconvert_exporter": "python",
   "pygments_lexer": "ipython3",
   "version": "3.11.9"
  }
 },
 "nbformat": 4,
 "nbformat_minor": 2
}
