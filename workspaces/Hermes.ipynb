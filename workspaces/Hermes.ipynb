{
 "cells": [
  {
   "cell_type": "markdown",
   "metadata": {},
   "source": [
    "<a id=\"toc\"></a>\n",
    "# HERMES beamline simulation with PyOptiX\n",
    "***\n",
    "\n",
    "Contents :\n",
    "1. [Optical elements declaration](#def_opt)\n",
    "1. [Définition des paramètres](#def_param)\n",
    "1. [Scripts d'alignement](#alignement)\n",
    "1. [Execution de la simulation](#exec)\n",
    "1. [Visualisation](#visu)\n",
    "1. [Monochromator resolution](#monores)"
   ]
  },
  {
   "cell_type": "code",
   "execution_count": 1,
   "metadata": {},
   "outputs": [
    {
     "name": "stderr",
     "output_type": "stream",
     "text": [
      "INFO:pyoptix.exposed_functions:initializing optix library\n",
      "INFO:pyoptix.exposed_functions:DLL loaded successfully\n",
      "INFO:pyoptix.exposed_functions:optix loaded, library version: SR_Source library Alpha release 2.3.740.740 build 2023-05-10\n",
      "\n"
     ]
    },
    {
     "name": "stdout",
     "output_type": "stream",
     "text": [
      "OptiX library initialized\n"
     ]
    }
   ],
   "source": [
    "import ctypes\n",
    "\n",
    "import numpy as np\n",
    "import pandas as pd\n",
    "import pyoptix\n",
    "import pyoptix.classes as pc\n",
    "from pyoptix.ui_objects import plot_spd_plotly\n",
    "from scipy.constants import c, degree, eV, h, micro, milli, nano, pi, pico\n",
    "from typing import List\n",
    "\n",
    "hc = h*c/eV\n",
    "\n",
    "pyoptix.set_aperture_active(False)\n",
    "\n",
    "# benchmarking tools\n",
    "# %load_ext autoreload\n",
    "# %autoreload 2\n",
    "# %matplotlib widget"
   ]
  },
  {
   "cell_type": "code",
   "execution_count": null,
   "metadata": {},
   "outputs": [],
   "source": []
  },
  {
   "cell_type": "markdown",
   "metadata": {},
   "source": [
    "<a id=\"def_opt\"></a>\n",
    "## Optical elements declaration\n",
    "[Back to the top](#toc)"
   ]
  },
  {
   "cell_type": "code",
   "execution_count": null,
   "metadata": {},
   "outputs": [],
   "source": [
    "# beamline class\n",
    "\n"
   ]
  },
  {
   "cell_type": "markdown",
   "metadata": {},
   "source": []
  }
 ],
 "metadata": {
  "kernelspec": {
   "display_name": "PyOptiX",
   "language": "python",
   "name": "python3"
  },
  "language_info": {
   "codemirror_mode": {
    "name": "ipython",
    "version": 3
   },
   "file_extension": ".py",
   "mimetype": "text/x-python",
   "name": "python",
   "nbconvert_exporter": "python",
   "pygments_lexer": "ipython3",
   "version": "3.11.9"
  }
 },
 "nbformat": 4,
 "nbformat_minor": 2
}
