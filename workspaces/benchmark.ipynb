{
 "cells": [
  {
   "cell_type": "markdown",
   "metadata": {},
   "source": [
    "<a id=\"toc\"></a>\n",
    "# Benchmarking\n",
    "***\n",
    "\n",
    "Contents :\n",
    "1. [Mono entrance slit](#mono_in)\n",
    "1. [Mono exit slit](#mono_out)"
   ]
  },
  {
   "cell_type": "code",
   "execution_count": null,
   "metadata": {},
   "outputs": [],
   "source": [
    "__author__ = ['Rafael Celestre']\n",
    "__contact__ = 'rafael.celestre@synchrotron-soleil.fr'\n",
    "__license__ = 'GPL-3.0'\n",
    "__copyright__ = 'Synchrotron SOLEIL, Saint Aubin, France'\n",
    "__created__ = '30/JUL/2024'\n",
    "__changed__ = '07/AUG/2024'"
   ]
  },
  {
   "cell_type": "code",
   "execution_count": null,
   "metadata": {},
   "outputs": [],
   "source": [
    "import sys\n",
    "import numpy as np\n",
    "from numpy.polynomial import Polynomial\n",
    "from barc4plots.barc4plots import PlotManager\n",
    "import barc4xoc.aux_pyoptix as apx\n",
    "import barc4xoc.aux_shadow as asw\n",
    "from array import array\n",
    "from scipy.optimize import minimize\n",
    "# checking we are using the correct python:\n",
    "print(sys.executable)\n",
    "print(sys.version)\n",
    "# %matplotlib widget"
   ]
  },
  {
   "cell_type": "code",
   "execution_count": null,
   "metadata": {},
   "outputs": [],
   "source": [
    "def plot_phase_space(beam, direction, prange, file_name=None):\n",
    "    d = direction.capitalize()\n",
    "    sts = get_beam_stats(beam, f\"{d.casefold()}\")\n",
    "    fig = PlotManager(axis_x=beam[f\"{d}\"]*1E6, axis_y=beam[f\"{d}p\"]*1E6)\n",
    "    fig.additional_info('', f\"${d.casefold()}$ [µm]\", f\"${d.casefold()}_p$ [µrad]\", xmin=prange[0], xmax=prange[1], ymin=prange[2], ymax=prange[3])\n",
    "    fig.aesthetics(dpi=600, LaTex=True, AspectRatio=False, FontsSize=None, grid=True, nbins=None)\n",
    "    fig.info_scatter(ColorScheme=9, LineStyle='.', alpha=1, s=1, edgeColors='face', monochrome=False)\n",
    "    fig.plot_scatter_hist(file_name)\n",
    "\n",
    "def plot_beam(beam, prange, file_name=None):\n",
    "    # sts = get_beam_stats(beam, \"x\")\n",
    "    # sts = get_beam_stats(beam, \"y\")\n",
    "    fig = PlotManager(axis_x=beam[\"X\"]*1E6, axis_y=beam[\"Y\"]*1E6)\n",
    "    fig.additional_info('', 'µm', 'µm', xmin=prange[0], xmax=prange[1], ymin=prange[2], ymax=prange[3])\n",
    "    fig.aesthetics(dpi=600, LaTex=True, AspectRatio=False, FontsSize=None, grid=True, nbins=None)\n",
    "    fig.info_scatter(ColorScheme=9, LineStyle='.', alpha=1, s=1, edgeColors='face', monochrome=False, showXhist=False)\n",
    "    fig.plot_scatter_hist(file_name)\n",
    "\n",
    "def plot_intensity(wft, prange, file_name=None):\n",
    "    # sts = get_beam_stats(beam, \"x\")\n",
    "    # sts = get_beam_stats(beam, \"y\")\n",
    "    intensity = wft[\"wavefront\"][\"intensity\"]\n",
    "    intensity[intensity<10e-5] = np.nan\n",
    "    fig = PlotManager(wft[\"wavefront\"][\"intensity\"], axis_x=wft[\"axis\"][\"x\"]*1E6, axis_y=wft[\"axis\"][\"y\"]*1E6)\n",
    "    fig.additional_info('', 'µm', 'µm', xmin=prange[0], xmax=prange[1], ymin=prange[2], ymax=prange[3])\n",
    "    fig.aesthetics(dpi=None, LaTex=True, AspectRatio=False, FontsSize=None, grid=True, nbins=None)\n",
    "    fig.info_2d_plot(ColorScheme=9)\n",
    "    fig.plot_2d_cuts(file_name)\n",
    "\n",
    "def calculate_range(X1, X2, Y1, Y2, mode=0, **kwargs):\n",
    "    \"\"\"\n",
    "    Calculate the range for plotting based on the given vectors.\n",
    "\n",
    "    Parameters:\n",
    "    X1, X2, Y1, Y2: numpy arrays or lists\n",
    "        The vectors containing the data.\n",
    "    mode: str, optional\n",
    "        The mode for calculating the range. Can be 'independent' or 'same'.\n",
    "        'independent' calculates ranges independently for X and Y.\n",
    "        'same' calculates a single range based on the maximum of X and Y.\n",
    "\n",
    "    Returns:\n",
    "    tuple:\n",
    "        (xmin, xmax, ymin, ymax)\n",
    "    \"\"\"\n",
    "    nsigma = kwargs.get(\"nsigma\", 3)\n",
    "    # Calculate the max absolute values for X and Y vectors\n",
    "    max_abs_X = max(np.max(np.abs(X1)), np.max(np.abs(X2)))*1.05\n",
    "    max_abs_Y = max(np.max(np.abs(Y1)), np.max(np.abs(Y2)))*1.05\n",
    "    max_sigma_X = max(np.std(X1), np.std(X2))*nsigma\n",
    "    max_sigma_Y = max(np.std(Y1), np.std(Y2))*nsigma\n",
    "    if mode == 0:\n",
    "        # Independent ranges for X and Y\n",
    "        xmin, xmax = -max_abs_X, max_abs_X\n",
    "        ymin, ymax = -max_abs_Y, max_abs_Y\n",
    "    elif mode == 1:\n",
    "        # Same range for both X and Y based on the max of max_abs_X and max_abs_Y\n",
    "        max_abs = max(max_abs_X, max_abs_Y)\n",
    "        xmin, xmax = -max_abs, max_abs\n",
    "        ymin, ymax = -max_abs, max_abs\n",
    "    elif mode == 2:\n",
    "        xmin, xmax = -max_sigma_X, max_sigma_X\n",
    "        ymin, ymax = -max_sigma_Y, max_sigma_Y\n",
    "    elif mode == 3:\n",
    "        max_abs = max(max_sigma_X, max_abs_Y)\n",
    "        xmin, xmax = -max_abs, max_abs\n",
    "        ymin, ymax = -max_abs, max_abs\n",
    "\n",
    "    else:\n",
    "        raise ValueError(\"Invalid mode\")\n",
    "\n",
    "    return np.asarray((xmin, xmax, ymin, ymax))\n",
    "\n",
    "def get_beam_stats(beam, direction=\"both\"):\n",
    "\n",
    "    def objective_function(distance, spots, axis):\n",
    "        return (spots[axis.capitalize()] + distance * spots[axis.capitalize()+\"p\"]).std()\n",
    "    \n",
    "    results = []\n",
    "\n",
    "    if direction in ['x', 'both']:\n",
    "        result_x = minimize(objective_function, 0, args=(beam, 'x'))\n",
    "        results.append(result_x.x[0])\n",
    "        print(\"Horizontal plane:\")\n",
    "\n",
    "        s = np.std(beam[\"X\"])\n",
    "        ds = np.std(beam[\"Xp\"])\n",
    "        msg = f\">> RMS beam size {s*1E6:.3f} µm and divergence {ds*1E6:.3f} µrad\"\n",
    "        print(msg)\n",
    "        print(f\">> Beam focusing along X at {result_x.x[0]:.6f} m\")\n",
    "\n",
    "    if direction in ['y', 'both']:\n",
    "        result_y = minimize(objective_function, 0, args=(beam, 'y'))\n",
    "        results.append(result_y.x[0])\n",
    "\n",
    "        s = np.std(beam[\"Y\"])\n",
    "        ds = np.std(beam[\"Yp\"])\n",
    "        print(\"Vertical plane:\")\n",
    "        msg = f\">> RMS beam size {s*1E6:.3f} µm and divergence {ds*1E6:.3f} µrad\"\n",
    "        print(msg)\n",
    "        print(f\">> Beam focusing along Y at {result_y.x[0]:.6f} m\")\n",
    "\n",
    "    return results\n",
    "    \n",
    "def merge_beams(beams):\n",
    "\n",
    "    merged_beam = {\n",
    "    'energy': np.array([]),\n",
    "    'intensity': np.array([]),\n",
    "    'X': np.array([]),\n",
    "    'Y': np.array([]),\n",
    "    'Z': np.array([]),\n",
    "    'Xp': np.array([]),\n",
    "    'Yp': np.array([]),\n",
    "    'Zp': np.array([]),\n",
    "    }\n",
    "    for beam in beams:\n",
    "        for key in merged_beam.keys():\n",
    "            merged_beam[key] = np.append(merged_beam[key], beam[key])\n",
    "\n",
    "    return merged_beam\n",
    "\n",
    "class SRWLRadMesh(object):\n",
    "    \"\"\"Radiation Mesh (Sampling)\"\"\"\n",
    "    \n",
    "    def __init__(self, _eStart=0, _eFin=0, _ne=1, _xStart=0, _xFin=0, _nx=1, _yStart=0, _yFin=0, _ny=1, _zStart=0):\n",
    "\n",
    "        self.eStart = _eStart\n",
    "        self.eFin = _eFin\n",
    "        self.ne = _ne\n",
    "        self.xStart = _xStart\n",
    "        self.xFin = _xFin\n",
    "        self.nx = _nx\n",
    "        self.yStart = _yStart\n",
    "        self.yFin = _yFin\n",
    "        self.ny = _ny\n",
    "        self.zStart = _zStart\n",
    "\n",
    "\n",
    "def srwl_uti_read_intens_ascii(_file_path, _num_type='f'):\n",
    "\n",
    "    sCom = '#'\n",
    "    f = open(_file_path, 'r')\n",
    "    lines = f.readlines()\n",
    "\n",
    "    resMesh = SRWLRadMesh()\n",
    "\n",
    "    curParts = lines[1].split(sCom); resMesh.eStart = float(curParts[1]) #to check\n",
    "    curParts = lines[2].split(sCom); resMesh.eFin = float(curParts[1]) #to check\n",
    "    curParts = lines[3].split(sCom); resMesh.ne = int(curParts[1]) #to check\n",
    "    \n",
    "    curParts = lines[4].split(sCom); resMesh.xStart = float(curParts[1]) #to check\n",
    "    curParts = lines[5].split(sCom); resMesh.xFin = float(curParts[1]) #to check\n",
    "    curParts = lines[6].split(sCom); resMesh.nx = int(curParts[1]) #to check\n",
    "\n",
    "    curParts = lines[7].split(sCom); resMesh.yStart = float(curParts[1]) #to check\n",
    "    curParts = lines[8].split(sCom); resMesh.yFin = float(curParts[1]) #to check\n",
    "    curParts = lines[9].split(sCom); resMesh.ny = int(curParts[1]) #to check\n",
    "\n",
    "    iStart = 10\n",
    "    if((lines[10])[0] == sCom): iStart = 11\n",
    "    \n",
    "    nRows = len(lines)\n",
    "    arInt = []\n",
    "    for i in range(iStart, nRows):\n",
    "        curLine = lines[i]\n",
    "        if(len(curLine) > 0): arInt.append(float(curLine))\n",
    "    f.close()\n",
    "    return array(_num_type, arInt), resMesh\n",
    "\n",
    "\n",
    "def read_srw_intensity_dat(file_name, bandwidth=1e-3, transmission=1, norm=True):\n",
    "\n",
    "    image, mesh = srwl_uti_read_intens_ascii(file_name)\n",
    "    image = np.reshape(image, (mesh.ny, mesh.nx))\n",
    "    dx = (mesh.xFin - mesh.xStart)/mesh.nx * 1E3\n",
    "    dy = (mesh.yFin - mesh.yStart)/mesh.ny * 1E3\n",
    "\n",
    "    image = image*dx*dy*bandwidth*transmission/(1e-3)\n",
    "    n = 1\n",
    "    if norm is not False:\n",
    "        if norm is True:\n",
    "            image /= np.amax(image)\n",
    "            n = np.amax(image)\n",
    "        else:\n",
    "            image /= norm\n",
    "            n = norm\n",
    "\n",
    "    x = np.linspace(mesh.xStart, mesh.xFin, mesh.nx)\n",
    "    y = np.linspace(mesh.yStart, mesh.yFin, mesh.ny)\n",
    "\n",
    "    wftDict = {\n",
    "        \"axis\": {\n",
    "            \"x\": x,\n",
    "            \"y\": y,\n",
    "            },\n",
    "        \"wavefront\": {\n",
    "            \"intensity\":image,\n",
    "            \"phase\": None,\n",
    "            }\n",
    "        }\n",
    "    return wftDict"
   ]
  },
  {
   "cell_type": "markdown",
   "metadata": {},
   "source": [
    "<a id=\"mono_in\"></a>\n",
    "## Mono entrance slit\n",
    "[Back to the top](#toc)"
   ]
  },
  {
   "cell_type": "code",
   "execution_count": null,
   "metadata": {},
   "outputs": [],
   "source": [
    "px_mes = apx.read_pyoptix_beam_from_csv(\"./results/pyoptix_G450_mono_entrance_slit.csv\")\n",
    "sw_mes = asw.read_shadow_beam_from_csv(\"./results/shadow_G450_mono_entrance_slit.csv\")\n",
    "\n",
    "prangex = calculate_range(px_mes[\"X\"], sw_mes[\"X\"], px_mes[\"Xp\"], sw_mes[\"Xp\"], 0, nsigma=4)*1E6\n",
    "prangey = calculate_range(px_mes[\"Y\"], sw_mes[\"Y\"], px_mes[\"Yp\"], sw_mes[\"Yp\"], 0, nsigma=4)*1E6"
   ]
  },
  {
   "cell_type": "markdown",
   "metadata": {},
   "source": [
    "### PyOptiX"
   ]
  },
  {
   "cell_type": "code",
   "execution_count": null,
   "metadata": {},
   "outputs": [],
   "source": [
    "plot_phase_space(px_mes, 'x', prangex, file_name=\"pyoptix_G450_mono_entrance_slit_xdx\")\n",
    "plot_phase_space(px_mes, 'y', prangey, file_name=\"pyoptix_G450_mono_entrance_slit_ydy\")"
   ]
  },
  {
   "cell_type": "markdown",
   "metadata": {},
   "source": [
    "### Shadow"
   ]
  },
  {
   "cell_type": "code",
   "execution_count": null,
   "metadata": {},
   "outputs": [],
   "source": [
    "plot_phase_space(sw_mes, 'x', prangex, file_name=\"shadow_G450_mono_entrance_slit_xdx\")\n",
    "plot_phase_space(sw_mes, 'y', prangey, file_name=\"shadow_G450_mono_entrance_slit_ydy\")"
   ]
  },
  {
   "cell_type": "markdown",
   "metadata": {},
   "source": [
    "<a id=\"mono_out\"></a>\n",
    "## Mono exit slit\n",
    "[Back to the top](#toc)"
   ]
  },
  {
   "cell_type": "code",
   "execution_count": null,
   "metadata": {},
   "outputs": [],
   "source": [
    "px_mes = apx.read_pyoptix_beam_from_csv(\"./results/pyoptix_G450_mono_exit_slit.csv\")\n",
    "sw_mes = asw.read_shadow_beam_from_csv(\"./results/shadow_G450_mono_exit_slit.csv\")\n",
    "\n",
    "prangex = calculate_range(px_mes[\"X\"], sw_mes[\"X\"], px_mes[\"Xp\"], sw_mes[\"Xp\"], 0, nsigma=4)*1E6\n",
    "prangey = calculate_range(px_mes[\"Y\"], sw_mes[\"Y\"], px_mes[\"Yp\"], sw_mes[\"Yp\"], 0, nsigma=4)*1E6"
   ]
  },
  {
   "cell_type": "markdown",
   "metadata": {},
   "source": [
    "### PyOptiX"
   ]
  },
  {
   "cell_type": "code",
   "execution_count": null,
   "metadata": {},
   "outputs": [],
   "source": [
    "plot_phase_space(px_mes, 'x', prangex, file_name=\"pyoptix_G450_mono_exit_slit_xdx\")\n",
    "plot_phase_space(px_mes, 'y', prangey, file_name=\"pyoptix_G450_mono_exit_slit_ydy\")"
   ]
  },
  {
   "cell_type": "markdown",
   "metadata": {},
   "source": [
    "### Shadow"
   ]
  },
  {
   "cell_type": "code",
   "execution_count": null,
   "metadata": {},
   "outputs": [],
   "source": [
    "plot_phase_space(sw_mes, 'x', prangex, file_name=\"shadow_G450_mono_exit_slit_xdx\")\n",
    "plot_phase_space(sw_mes, 'y', prangey, file_name=\"shadow_G450_mono_exit_slit_ydy\")"
   ]
  },
  {
   "cell_type": "markdown",
   "metadata": {},
   "source": [
    "<a id=\"STXM\"></a>\n",
    "## STXM\n",
    "[Back to the top](#toc)"
   ]
  },
  {
   "cell_type": "code",
   "execution_count": null,
   "metadata": {},
   "outputs": [],
   "source": [
    "px_mes = apx.read_pyoptix_beam_from_csv(\"./results/pyoptix_G450_stxm.csv\")\n",
    "sw_mes = asw.read_shadow_beam_from_csv(\"./results/shadow_G450_stxm.csv\")\n",
    "\n",
    "prangex = calculate_range(px_mes[\"X\"], sw_mes[\"X\"], px_mes[\"Xp\"], sw_mes[\"Xp\"], 0, nsigma=4)*1E6\n",
    "prangey = calculate_range(px_mes[\"Y\"], sw_mes[\"Y\"], px_mes[\"Yp\"], sw_mes[\"Yp\"], 0, nsigma=4)*1E6"
   ]
  },
  {
   "cell_type": "markdown",
   "metadata": {},
   "source": [
    "### PyOptiX"
   ]
  },
  {
   "cell_type": "code",
   "execution_count": null,
   "metadata": {},
   "outputs": [],
   "source": [
    "plot_phase_space(px_mes, 'x', prangex, file_name=\"pyoptix_G450_stxm_xdx\")\n",
    "plot_phase_space(px_mes, 'y', prangey, file_name=\"pyoptix_G450_stxm_ydy\")"
   ]
  },
  {
   "cell_type": "markdown",
   "metadata": {},
   "source": [
    "### Shadow"
   ]
  },
  {
   "cell_type": "code",
   "execution_count": null,
   "metadata": {},
   "outputs": [],
   "source": [
    "plot_phase_space(sw_mes, 'x', prangex, file_name=\"shadow_G450_stxm_xdx\")\n",
    "plot_phase_space(sw_mes, 'y', prangey, file_name=\"shadow_G450_stxm_ydy\")"
   ]
  },
  {
   "cell_type": "markdown",
   "metadata": {},
   "source": [
    "<a id=\"peem\"></a>\n",
    "## PEEM\n",
    "[Back to the top](#toc)"
   ]
  },
  {
   "cell_type": "code",
   "execution_count": null,
   "metadata": {},
   "outputs": [],
   "source": [
    "px_mes = apx.read_pyoptix_beam_from_csv(\"./results/pyoptix_G450_peem.csv\")\n",
    "sw_mes = asw.read_shadow_beam_from_csv(\"./results/shadow_G450_peem.csv\")\n",
    "\n",
    "prangex = calculate_range(px_mes[\"X\"], sw_mes[\"X\"], px_mes[\"Xp\"], sw_mes[\"Xp\"], 0, nsigma=4)*1E6\n",
    "prangey = calculate_range(px_mes[\"Y\"], sw_mes[\"Y\"], px_mes[\"Yp\"], sw_mes[\"Yp\"], 0, nsigma=4)*1E6"
   ]
  },
  {
   "cell_type": "markdown",
   "metadata": {},
   "source": [
    "### PyOptiX"
   ]
  },
  {
   "cell_type": "code",
   "execution_count": null,
   "metadata": {},
   "outputs": [],
   "source": [
    "plot_phase_space(px_mes, 'x', prangex, file_name=\"pyoptix_G450_peem_xdx\")\n",
    "plot_phase_space(px_mes, 'y', prangey, file_name=\"pyoptix_G450_peem_ydy\")"
   ]
  },
  {
   "cell_type": "markdown",
   "metadata": {},
   "source": [
    "### Shadow"
   ]
  },
  {
   "cell_type": "code",
   "execution_count": null,
   "metadata": {},
   "outputs": [],
   "source": [
    "plot_phase_space(sw_mes, 'x', prangex, file_name=\"shadow_G450_peem_xdx\")\n",
    "plot_phase_space(sw_mes, 'y', prangey, file_name=\"shadow_G450_peem_ydy\")"
   ]
  },
  {
   "cell_type": "markdown",
   "metadata": {},
   "source": [
    "## G450 l/mm - Resolving power - $\\Delta E/E=7'500$\n",
    "[Back to the top](#toc)"
   ]
  },
  {
   "cell_type": "code",
   "execution_count": null,
   "metadata": {},
   "outputs": [],
   "source": [
    "Eo = apx.read_pyoptix_beam_from_csv(\"./results/pyoptix_G450_mono_exit_slit.csv\")\n",
    "Ep = apx.read_pyoptix_beam_from_csv(\"./results/pyoptix_G450_RP7500_p.csv\")\n",
    "En = apx.read_pyoptix_beam_from_csv(\"./results/pyoptix_G450_RP7500_n.csv\")\n",
    "prange = [-520,520,-220, 220]#calculate_range(En[\"X\"], Ep[\"X\"], En[\"Y\"], Ep[\"Y\"], 0, nsigma=5)*1E6\n",
    "beam = merge_beams([Eo, Ep, En])\n",
    "plot_beam(beam, prange, file_name=\"pyoptix_G450_RP7500\")"
   ]
  },
  {
   "cell_type": "code",
   "execution_count": null,
   "metadata": {},
   "outputs": [],
   "source": [
    "Eo = asw.read_shadow_beam_from_csv(\"./results/shadow_G450_RP7500.csv\")\n",
    "plot_beam(Eo, prange, file_name=\"shadow_G450_RP7500\")"
   ]
  },
  {
   "cell_type": "code",
   "execution_count": null,
   "metadata": {},
   "outputs": [],
   "source": [
    "Eo = apx.read_pyoptix_beam_from_csv(\"./results/pyoptix_S2_G450_mono_exit_slit.csv\")\n",
    "Ep = apx.read_pyoptix_beam_from_csv(\"./results/pyoptix_S2_G450_RP7500_p.csv\")\n",
    "En = apx.read_pyoptix_beam_from_csv(\"./results/pyoptix_S2_G450_RP7500_n.csv\")\n",
    "# prange = calculate_range(En[\"X\"], Ep[\"X\"], En[\"Y\"], Ep[\"Y\"], 0, nsigma=4)*1E6\n",
    "beam = merge_beams([Eo, Ep, En])\n",
    "plot_beam(beam, prange, file_name=\"pyoptix_S2_G450_RP7500\")"
   ]
  },
  {
   "cell_type": "code",
   "execution_count": null,
   "metadata": {},
   "outputs": [],
   "source": [
    "Eo = apx.read_pyoptix_beam_from_csv(\"./results/pyoptix_S2_M1bis_G450_mono_exit_slit.csv\")\n",
    "Ep = apx.read_pyoptix_beam_from_csv(\"./results/pyoptix_S2_M1bis_G450_RP7500_p.csv\")\n",
    "En = apx.read_pyoptix_beam_from_csv(\"./results/pyoptix_S2_M1bis_G450_RP7500_n.csv\")\n",
    "# prange = calculate_range(En[\"X\"], Ep[\"X\"], En[\"Y\"], Ep[\"Y\"], 0, nsigma=4)*1E6\n",
    "beam = merge_beams([Eo, Ep, En])\n",
    "plot_beam(beam, prange, file_name=\"pyoptix_S2_M1bis_G450_RP7500\")"
   ]
  },
  {
   "cell_type": "markdown",
   "metadata": {},
   "source": [
    "## G450 l/mm - Resolving power - $\\Delta E/E=10'000$\n",
    "[Back to the top](#toc)"
   ]
  },
  {
   "cell_type": "code",
   "execution_count": null,
   "metadata": {},
   "outputs": [],
   "source": [
    "Eo = apx.read_pyoptix_beam_from_csv(\"./results/pyoptix_G450_mono_exit_slit.csv\")\n",
    "Ep = apx.read_pyoptix_beam_from_csv(\"./results/pyoptix_G450_RP10000_p.csv\")\n",
    "En = apx.read_pyoptix_beam_from_csv(\"./results/pyoptix_G450_RP10000_n.csv\")\n",
    "# prange = calculate_range(En[\"X\"], Ep[\"X\"], En[\"Y\"], Ep[\"Y\"], 0, nsigma=4)*1E6\n",
    "beam = merge_beams([Eo, Ep, En])\n",
    "plot_beam(beam, prange, file_name=\"pyoptix_G450_RP10000\")"
   ]
  },
  {
   "cell_type": "code",
   "execution_count": null,
   "metadata": {},
   "outputs": [],
   "source": [
    "Eo = asw.read_shadow_beam_from_csv(\"./results/shadow_G450_RP10000.csv\")\n",
    "plot_beam(Eo, prange, file_name=\"shadow_G450_RP10000\")"
   ]
  },
  {
   "cell_type": "code",
   "execution_count": null,
   "metadata": {},
   "outputs": [],
   "source": [
    "Eo = apx.read_pyoptix_beam_from_csv(\"./results/pyoptix_S2_G450_mono_exit_slit.csv\")\n",
    "Ep = apx.read_pyoptix_beam_from_csv(\"./results/pyoptix_S2_G450_RP10000_p.csv\")\n",
    "En = apx.read_pyoptix_beam_from_csv(\"./results/pyoptix_S2_G450_RP10000_n.csv\")\n",
    "# prange = calculate_range(En[\"X\"], Ep[\"X\"], En[\"Y\"], Ep[\"Y\"], 0, nsigma=4)*1E6\n",
    "beam = merge_beams([Eo, Ep, En])\n",
    "plot_beam(beam, prange, file_name=\"pyoptix_S2_G450_RP10000\")"
   ]
  },
  {
   "cell_type": "code",
   "execution_count": null,
   "metadata": {},
   "outputs": [],
   "source": [
    "Eo = apx.read_pyoptix_beam_from_csv(\"./results/pyoptix_S2_M1bis_G450_mono_exit_slit.csv\")\n",
    "Ep = apx.read_pyoptix_beam_from_csv(\"./results/pyoptix_S2_M1bis_G450_RP10000_p.csv\")\n",
    "En = apx.read_pyoptix_beam_from_csv(\"./results/pyoptix_S2_M1bis_G450_RP10000_n.csv\")\n",
    "# prange = calculate_range(En[\"X\"], Ep[\"X\"], En[\"Y\"], Ep[\"Y\"], 0, nsigma=4)*1E6\n",
    "beam = merge_beams([Eo, Ep, En])\n",
    "plot_beam(beam, prange, file_name=\"pyoptix_S2_M1bis_G450_RP10000\")"
   ]
  },
  {
   "cell_type": "markdown",
   "metadata": {},
   "source": [
    "## G450 l/mm - Resolving power - $\\Delta E/E=15'000$\n",
    "[Back to the top](#toc)"
   ]
  },
  {
   "cell_type": "code",
   "execution_count": null,
   "metadata": {},
   "outputs": [],
   "source": [
    "Eo = apx.read_pyoptix_beam_from_csv(\"./results/pyoptix_G450_mono_exit_slit.csv\")\n",
    "Ep = apx.read_pyoptix_beam_from_csv(\"./results/pyoptix_G450_RP15000_p.csv\")\n",
    "En = apx.read_pyoptix_beam_from_csv(\"./results/pyoptix_G450_RP15000_n.csv\")\n",
    "# prange = calculate_range(En[\"X\"], Ep[\"X\"], En[\"Y\"], Ep[\"Y\"], 0, nsigma=4)*1E6\n",
    "beam = merge_beams([Eo, Ep, En])\n",
    "plot_beam(beam, prange, file_name=\"pyoptix_G450_RP15000\")"
   ]
  },
  {
   "cell_type": "code",
   "execution_count": null,
   "metadata": {},
   "outputs": [],
   "source": [
    "Eo = asw.read_shadow_beam_from_csv(\"./results/shadow_G450_RP15000.csv\")\n",
    "plot_beam(Eo, prange, file_name=\"shadow_G450_RP15000\")"
   ]
  },
  {
   "cell_type": "code",
   "execution_count": null,
   "metadata": {},
   "outputs": [],
   "source": [
    "Eo = apx.read_pyoptix_beam_from_csv(\"./results/pyoptix_S2_G450_mono_exit_slit.csv\")\n",
    "Ep = apx.read_pyoptix_beam_from_csv(\"./results/pyoptix_S2_G450_RP15000_p.csv\")\n",
    "En = apx.read_pyoptix_beam_from_csv(\"./results/pyoptix_S2_G450_RP15000_n.csv\")\n",
    "# prange = calculate_range(En[\"X\"], Ep[\"X\"], En[\"Y\"], Ep[\"Y\"], 0, nsigma=4)*1E6\n",
    "beam = merge_beams([Eo, Ep, En])\n",
    "plot_beam(beam, prange, file_name=\"pyoptix_S2_G450_RP15000\")"
   ]
  },
  {
   "cell_type": "code",
   "execution_count": null,
   "metadata": {},
   "outputs": [],
   "source": [
    "Eo = apx.read_pyoptix_beam_from_csv(\"./results/pyoptix_S2_M1bis_G450_mono_exit_slit.csv\")\n",
    "Ep = apx.read_pyoptix_beam_from_csv(\"./results/pyoptix_S2_M1bis_G450_RP15000_p.csv\")\n",
    "En = apx.read_pyoptix_beam_from_csv(\"./results/pyoptix_S2_M1bis_G450_RP15000_n.csv\")\n",
    "# prange = calculate_range(En[\"X\"], Ep[\"X\"], En[\"Y\"], Ep[\"Y\"], 0, nsigma=4)*1E6\n",
    "beam = merge_beams([Eo, Ep, En])\n",
    "plot_beam(beam, prange, file_name=\"pyoptix_S2_M1bis_G450_RP15000\")"
   ]
  },
  {
   "cell_type": "markdown",
   "metadata": {},
   "source": [
    "## G450 l/mm - Resolving power - $\\Delta E/E=20'000$\n",
    "[Back to the top](#toc)"
   ]
  },
  {
   "cell_type": "code",
   "execution_count": null,
   "metadata": {},
   "outputs": [],
   "source": [
    "Eo = apx.read_pyoptix_beam_from_csv(\"./results/pyoptix_G450_mono_exit_slit.csv\")\n",
    "Ep = apx.read_pyoptix_beam_from_csv(\"./results/pyoptix_G450_RP20000_p.csv\")\n",
    "En = apx.read_pyoptix_beam_from_csv(\"./results/pyoptix_G450_RP20000_n.csv\")\n",
    "# prange = calculate_range(En[\"X\"], Ep[\"X\"], En[\"Y\"], Ep[\"Y\"], 0, nsigma=4)*1E6\n",
    "beam = merge_beams([Eo, Ep, En])\n",
    "plot_beam(beam, prange, file_name=\"pyoptix_G450_RP20000\")"
   ]
  },
  {
   "cell_type": "code",
   "execution_count": null,
   "metadata": {},
   "outputs": [],
   "source": [
    "Eo = asw.read_shadow_beam_from_csv(\"./results/shadow_G450_RP20000.csv\")\n",
    "plot_beam(Eo, prange, file_name=\"shadow_G450_RP20000\")"
   ]
  },
  {
   "cell_type": "code",
   "execution_count": null,
   "metadata": {},
   "outputs": [],
   "source": [
    "Eo = apx.read_pyoptix_beam_from_csv(\"./results/pyoptix_S2_G450_mono_exit_slit.csv\")\n",
    "Ep = apx.read_pyoptix_beam_from_csv(\"./results/pyoptix_S2_G450_RP20000_p.csv\")\n",
    "En = apx.read_pyoptix_beam_from_csv(\"./results/pyoptix_S2_G450_RP20000_n.csv\")\n",
    "# prange = calculate_range(En[\"X\"], Ep[\"X\"], En[\"Y\"], Ep[\"Y\"], 0, nsigma=4)*1E6\n",
    "beam = merge_beams([Eo, Ep, En])\n",
    "plot_beam(beam, prange, file_name=\"pyoptix_S2_G450_RP20000\")"
   ]
  },
  {
   "cell_type": "code",
   "execution_count": null,
   "metadata": {},
   "outputs": [],
   "source": [
    "Eo = apx.read_pyoptix_beam_from_csv(\"./results/pyoptix_S2_M1bis_G450_mono_exit_slit.csv\")\n",
    "Ep = apx.read_pyoptix_beam_from_csv(\"./results/pyoptix_S2_M1bis_G450_RP20000_p.csv\")\n",
    "En = apx.read_pyoptix_beam_from_csv(\"./results/pyoptix_S2_M1bis_G450_RP20000_n.csv\")\n",
    "# prange = calculate_range(En[\"X\"], Ep[\"X\"], En[\"Y\"], Ep[\"Y\"], 0, nsigma=4)*1E6\n",
    "beam = merge_beams([Eo, Ep, En])\n",
    "plot_beam(beam, prange, file_name=\"pyoptix_S2_M1bis_G450_RP20000\")"
   ]
  }
 ],
 "metadata": {
  "kernelspec": {
   "display_name": "PyOptiX",
   "language": "python",
   "name": "python3"
  },
  "language_info": {
   "codemirror_mode": {
    "name": "ipython",
    "version": 3
   },
   "file_extension": ".py",
   "mimetype": "text/x-python",
   "name": "python",
   "nbconvert_exporter": "python",
   "pygments_lexer": "ipython3",
   "version": "3.11.9"
  }
 },
 "nbformat": 4,
 "nbformat_minor": 2
}
