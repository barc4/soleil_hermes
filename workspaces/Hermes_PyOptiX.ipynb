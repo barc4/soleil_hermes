{
 "cells": [
  {
   "cell_type": "markdown",
   "metadata": {},
   "source": [
    "<a id=\"toc\"></a>\n",
    "# HERMES beamline simulation with PyOptiX\n",
    "***\n",
    "\n",
    "Contents :\n",
    "1. [Optical elements declaration](#def_opt)\n",
    "1. [Definition of optical parameters](#def_param)\n",
    "1. [Alignment scripts](#alignement)\n",
    "1. [Simulation execution](#exec)\n",
    "1. [Visualisation](#visu)"
   ]
  },
  {
   "cell_type": "code",
   "execution_count": null,
   "metadata": {},
   "outputs": [],
   "source": [
    "__author__ = ['Rafael Celestre']\n",
    "__contact__ = 'rafael.celestre@synchrotron-soleil.fr'\n",
    "__license__ = 'GPL-3.0'\n",
    "__copyright__ = 'Synchrotron SOLEIL, Saint Aubin, France'\n",
    "__created__ = '23/JUL/2024'\n",
    "__changed__ = '06/AUG/2024'\n",
    "\n",
    "import ctypes\n",
    "\n",
    "import numpy as np\n",
    "import pandas as pd\n",
    "import pyoptix\n",
    "import pyoptix.classes as opx\n",
    "from pyoptix.ui_objects import plot_spd_plotly\n",
    "from scipy.constants import c, degree, eV, h, micro, milli, nano, pi, pico\n",
    "from typing import List\n",
    "from barc4xoc.aux_pyoptix import save_beam_data_to_csv, read_pyoptix_beam_from_csv\n",
    "\n",
    "hc = h*c/eV\n",
    "\n",
    "pyoptix.set_aperture_active(False)\n",
    "pyoptix.output_notebook()\n"
   ]
  },
  {
   "cell_type": "markdown",
   "metadata": {},
   "source": [
    "<a id=\"def_opt\"></a>\n",
    "## Optical elements declaration\n",
    "[Back to the top](#toc)"
   ]
  },
  {
   "cell_type": "code",
   "execution_count": null,
   "metadata": {},
   "outputs": [],
   "source": [
    "# beamline class\n",
    "Hermes = opx.Beamline(name=\"Hermes - current\")\n",
    "\n",
    "# ------------------\n",
    "# source\n",
    "# ------------------\n",
    "ondulator_LE = opx.UndulatorSource(name=\"ond_LE\")         # low energy \n",
    "ondulator_HE = opx.UndulatorSource(name=\"ond_HE\")         # high energy\n",
    "\n",
    "# ------------------\n",
    "# optical elements\n",
    "# ------------------\n",
    "pupil = opx.PlaneFilm(name=\"pupil\")\n",
    "\n",
    "# M1\n",
    "m1a = opx.PlaneMirror(name=\"M1A\")\n",
    "m1b = opx.ToroidalMirror(name=\"M1B\")\n",
    "m1c = opx.ToroidalMirror(name=\"M1C\")\n",
    "\n",
    "# monochromator\n",
    "mono_entrance_slit = opx.PlaneFilm(name=\"mono_in\")\n",
    "grating_450 = opx.PlaneHoloGrating(name=\"grating_450\")\n",
    "grating_600 = opx.PlaneHoloGrating(name=\"grating_600\")\n",
    "m2 = opx.PlaneMirror(name=\"M2\")\n",
    "m3 = opx.ToroidalMirror(name=\"M3\")\n",
    "mono_exit_slit = opx.PlaneFilm(name=\"mono_out\")\n",
    "\n",
    "# branch STXM\n",
    "m4 = opx.ToroidalMirror(name=\"M4\")\n",
    "vs_m4 = opx.PlaneFilm(name=\"virtual_source_M4\")\n",
    "\n",
    "# branch PEEM\n",
    "m5 = opx.CylindricalMirror(name=\"M5\")\n",
    "vs_m5 = opx.PlaneFilm(name=\"virtual_source_M5\")\n",
    "m6 = opx.ConicCylindricalMirror(name=\"M6\")\n",
    "m7 = opx.ConicCylindricalMirror(name=\"M7\")\n",
    "\n",
    "# ------------------\n",
    "# endstations\n",
    "# ------------------\n",
    "peem = opx.PlaneFilm(name=\"PEEM\")\n",
    "stxm = opx.PlaneFilm(name=\"STXM\")"
   ]
  },
  {
   "cell_type": "code",
   "execution_count": null,
   "metadata": {},
   "outputs": [],
   "source": [
    "branches = [[mono_exit_slit, m5, vs_m5, m6, m7, peem],\n",
    "            [mono_exit_slit, m4, vs_m4, stxm],\n",
    "            [mono_exit_slit]]\n",
    "\n",
    "for undulator, m1bis, grating in [(ondulator_LE, m1b, grating_450), (ondulator_HE, m1c, grating_600)]:\n",
    "    for branch in branches:\n",
    "        chain_name = f\"{undulator.name.split('_')[1]}_G{grating.name.split('_')[1]}_{branch[-1].name}\"\n",
    "        Hermes.chains[chain_name] = [\n",
    "            undulator, pupil, m1a, m1bis, mono_entrance_slit, grating, m2, m3\n",
    "        ] + branch\n",
    "\n",
    "for chain_name in Hermes.chains:\n",
    "    print(chain_name,\":\\n\\t\",Hermes.chains[chain_name])"
   ]
  },
  {
   "cell_type": "markdown",
   "metadata": {},
   "source": [
    "<a id=\"def_param\"></a>\n",
    "## Definition of optical parameters\n",
    "\n",
    "In this section we define the static parameters of the optical elements. Characteristics that change with \n",
    "either configuration or energy are defined in the [Alignment scripts](#alignement) section.\n",
    "\n",
    "[Back to the top](#toc)"
   ]
  },
  {
   "cell_type": "markdown",
   "metadata": {},
   "source": [
    "### Low energy undulator (**HU64**)"
   ]
  },
  {
   "cell_type": "code",
   "execution_count": null,
   "metadata": {},
   "outputs": [],
   "source": [
    "e_beam = opx.ElectronBeam()\n",
    "e_beam.from_twiss(energy=2.75, energy_spread=0.1025/100, current=0.500,\n",
    "                  emittance=3.94*nano, coupling=1/100,\n",
    "                  beta_x=4.7890, eta_x= 0.1804, etap_x= 0.0007, alpha_x=-0.3858,\n",
    "                  beta_y=3.7497, eta_y=-0.0044, etap_y=-0.0025, alpha_y=-0.7746)\n",
    "e_beam.print_rms()\n",
    "\n",
    "hu64 = opx.MagneticStructure(period_length=64e-3, number_of_periods=28)\n",
    "\n",
    "ondulator_LE.electron_beam = e_beam\n",
    "ondulator_LE.magnetic_structure = hu64\n",
    "\n",
    "ondulator_LE.write_syned_config(r\".\\resources\\soleil_hu64\",\"Soleil - HU64\")"
   ]
  },
  {
   "cell_type": "markdown",
   "metadata": {},
   "source": [
    "### High energy undulator (**HU42**)"
   ]
  },
  {
   "cell_type": "code",
   "execution_count": null,
   "metadata": {},
   "outputs": [],
   "source": [
    "e_beam = opx.ElectronBeam()\n",
    "e_beam.from_twiss(energy=2.75, energy_spread=0.1025/100, current=0.500,\n",
    "                  emittance=3.94*nano, coupling=1/100,\n",
    "                  beta_x=4.1825, eta_x=0.1792, etap_x= 0.0007, alpha_x=0.0578,\n",
    "                  beta_y=2.3439, eta_y=0.0001, etap_y=-0.0025, alpha_y=0.0143)\n",
    "e_beam.print_rms()\n",
    "\n",
    "hu42 = opx.MagneticStructure(period_length=42e-3, number_of_periods=42)\n",
    "\n",
    "ondulator_HE.electron_beam = e_beam\n",
    "ondulator_HE.magnetic_structure = hu42\n",
    "\n",
    "ondulator_HE.write_syned_config(r\".\\resources\\soleil_hu42\",\"Soleil - HU42\")"
   ]
  },
  {
   "cell_type": "markdown",
   "metadata": {},
   "source": [
    "### Entrance pupil\n",
    "[Back to the top](#toc)"
   ]
  },
  {
   "cell_type": "code",
   "execution_count": null,
   "metadata": {},
   "outputs": [],
   "source": [
    "pupil.distance_from_previous = 20\n",
    "pupil.recording_mode = opx.RecordingMode.recording_output\n",
    "pupil.next = m1a"
   ]
  },
  {
   "cell_type": "markdown",
   "metadata": {},
   "source": [
    "### M1\n",
    "\n",
    "[Back to the top](#toc)"
   ]
  },
  {
   "cell_type": "code",
   "execution_count": null,
   "metadata": {},
   "outputs": [],
   "source": [
    "m1_grazing_angle = [2.5*degree, 1.2*degree]\n",
    "\n",
    "m1_distance = opx.M1_triad_distances(incident_angle=m1_grazing_angle,\n",
    "                                    transverse_distance=41e-3, \n",
    "                                    verbose=1)"
   ]
  },
  {
   "cell_type": "markdown",
   "metadata": {},
   "source": [
    "#### - M1A"
   ]
  },
  {
   "cell_type": "code",
   "execution_count": null,
   "metadata": {},
   "outputs": [],
   "source": [
    "m1a.distance_from_previous = 0\n",
    "m1a.phi = -90*degree # rad\n",
    "m1a.recording_mode = opx.RecordingMode.recording_output"
   ]
  },
  {
   "cell_type": "markdown",
   "metadata": {},
   "source": [
    "#### - M1B"
   ]
  },
  {
   "cell_type": "code",
   "execution_count": null,
   "metadata": {},
   "outputs": [],
   "source": [
    "m1b.distance_from_previous = m1_distance[0][0]\n",
    "m1b.theta = m1_grazing_angle[0]\n",
    "m1b.phi = 180*degree   \n",
    "m1b.minor_curvature = 1/1.802572 # m-1\n",
    "m1b.major_curvature = 1/126.7433 # m-1\n",
    "m1b.recording_mode = opx.RecordingMode.recording_output\n",
    "m1b.next = mono_entrance_slit"
   ]
  },
  {
   "cell_type": "markdown",
   "metadata": {},
   "source": [
    "#### - M1C"
   ]
  },
  {
   "cell_type": "code",
   "execution_count": null,
   "metadata": {},
   "outputs": [],
   "source": [
    "m1c.distance_from_previous = m1_distance[1][0]\n",
    "m1c.theta = m1_grazing_angle[1] \n",
    "m1c.phi = 180*degree   \n",
    "m1c.minor_curvature = 1/0.8870043 # m-1\n",
    "m1c.major_curvature = 1/229.5203 # m-1\n",
    "m1c.recording_mode = opx.RecordingMode.recording_output\n",
    "m1c.next = mono_entrance_slit"
   ]
  },
  {
   "cell_type": "markdown",
   "metadata": {},
   "source": [
    "### Monochromator\n",
    "\n",
    "[Back to the top](#toc)"
   ]
  },
  {
   "cell_type": "markdown",
   "metadata": {},
   "source": [
    "#### Mono entrance slit"
   ]
  },
  {
   "cell_type": "code",
   "execution_count": null,
   "metadata": {},
   "outputs": [],
   "source": [
    "mono_entrance_slit.distance_from_previous = 2.7\n",
    "mono_entrance_slit.phi = -90*degree\n",
    "mono_entrance_slit.recording_mode = opx.RecordingMode.recording_output"
   ]
  },
  {
   "cell_type": "markdown",
   "metadata": {},
   "source": [
    "#### Grating 450 l/mm"
   ]
  },
  {
   "cell_type": "code",
   "execution_count": null,
   "metadata": {},
   "outputs": [],
   "source": [
    "grating_450.distance_from_previous = 0.6\n",
    "grating_450.line_density = 450/milli\n",
    "grating_450.inverse_distance1=-0.1761099\n",
    "grating_450.inverse_distance2=-0.1111111\n",
    "grating_450.elevation_angle1=-min(np.arccos(0.7986355-0.157995),np.arccos(0.7986355))\n",
    "grating_450.recording_wavelength=351.1*nano\n",
    "grating_450.get_vls_law(200e-3 ,3)\n",
    "grating_450.order_align = 1\n",
    "grating_450.order_use = 1\n",
    "grating_450.recording_mode = opx.RecordingMode.recording_input\n",
    "grating_450.next = m2"
   ]
  },
  {
   "cell_type": "markdown",
   "metadata": {},
   "source": [
    "#### Grating 600 l/mm"
   ]
  },
  {
   "cell_type": "code",
   "execution_count": null,
   "metadata": {},
   "outputs": [],
   "source": [
    "grating_600.distance_from_previous = 0.6\n",
    "grating_600.line_density = 600/milli\n",
    "grating_600.inverse_distance1=-0.2002547\n",
    "grating_600.inverse_distance2=-0.1111111\n",
    "grating_600.elevation_angle1=-min(np.arccos(0.7986355), np.arccos(0.7986355-0.21066))\n",
    "grating_600.recording_wavelength=351.1*nano\n",
    "grating_600.get_vls_law(200e-3 ,3)\n",
    "grating_600.order_align = 1\n",
    "grating_600.order_use = 1\n",
    "grating_600.recording_mode = opx.RecordingMode.recording_output\n",
    "grating_600.next = m2"
   ]
  },
  {
   "cell_type": "markdown",
   "metadata": {},
   "source": [
    "#### M2"
   ]
  },
  {
   "cell_type": "code",
   "execution_count": null,
   "metadata": {},
   "outputs": [],
   "source": [
    "m2.phi = 180*degree \n",
    "m2.recording_mode = opx.RecordingMode.recording_output\n",
    "m2.next = m3"
   ]
  },
  {
   "cell_type": "markdown",
   "metadata": {},
   "source": [
    "#### M3"
   ]
  },
  {
   "cell_type": "code",
   "execution_count": null,
   "metadata": {},
   "outputs": [],
   "source": [
    "m3.theta = 1.2*degree\n",
    "m3.phi = -90*degree   \n",
    "m3.minor_curvature = 1/0.1462124\n",
    "m3.major_curvature = 1/83\n",
    "m3.recording_mode = opx.RecordingMode.recording_output\n",
    "m3.next = mono_exit_slit"
   ]
  },
  {
   "cell_type": "markdown",
   "metadata": {},
   "source": [
    "#### Mono exit sit"
   ]
  },
  {
   "cell_type": "code",
   "execution_count": null,
   "metadata": {},
   "outputs": [],
   "source": [
    "mono_exit_slit.distance_from_previous = 3.5\n",
    "mono_exit_slit.phi = -90*degree\n",
    "mono_exit_slit.recording_mode = opx.RecordingMode.recording_output"
   ]
  },
  {
   "cell_type": "markdown",
   "metadata": {},
   "source": [
    "### STXM branch\n",
    "\n",
    "[Back to the top](#toc)"
   ]
  },
  {
   "cell_type": "markdown",
   "metadata": {},
   "source": [
    "#### M4"
   ]
  },
  {
   "cell_type": "code",
   "execution_count": null,
   "metadata": {},
   "outputs": [],
   "source": [
    "m4.distance_from_previous = 2\n",
    "m4.theta = 1.35*degree\n",
    "m4.phi = -90*degree\n",
    "m4.minor_curvature = 1/0.0396\n",
    "m4.major_curvature = 1/79\n",
    "m4.recording_mode = opx.RecordingMode.recording_output\n",
    "m4.next = vs_m4"
   ]
  },
  {
   "cell_type": "markdown",
   "metadata": {},
   "source": [
    "#### virtual source (M4)"
   ]
  },
  {
   "cell_type": "code",
   "execution_count": null,
   "metadata": {},
   "outputs": [],
   "source": [
    "vs_m4.distance_from_previous = 1.45\n",
    "vs_m4.phi = 90*degree\n",
    "vs_m4.recording_mode = opx.RecordingMode.recording_output\n",
    "vs_m4.next = stxm"
   ]
  },
  {
   "cell_type": "markdown",
   "metadata": {},
   "source": [
    "#### entrance of the microscope (just before the zone-plate)"
   ]
  },
  {
   "cell_type": "code",
   "execution_count": null,
   "metadata": {},
   "outputs": [],
   "source": [
    "stxm.distance_from_previous = 3.5\n",
    "stxm.recording_mode = opx.RecordingMode.recording_output"
   ]
  },
  {
   "cell_type": "markdown",
   "metadata": {},
   "source": [
    "### PEEM branch\n",
    "\n",
    "[Back to the top](#toc)"
   ]
  },
  {
   "cell_type": "markdown",
   "metadata": {},
   "source": [
    "#### M5"
   ]
  },
  {
   "cell_type": "code",
   "execution_count": null,
   "metadata": {},
   "outputs": [],
   "source": [
    "m5.distance_from_previous = 1\n",
    "m5.theta = 1.75*degree\n",
    "m5.phi = 90*degree\n",
    "m5.curvature = 1/35\n",
    "m5.axis_angle = 0 \n",
    "m5.recording_mode = opx.RecordingMode.recording_output\n",
    "m5.next = vs_m5"
   ]
  },
  {
   "cell_type": "markdown",
   "metadata": {},
   "source": [
    "#### virtual source (M5)"
   ]
  },
  {
   "cell_type": "code",
   "execution_count": null,
   "metadata": {},
   "outputs": [],
   "source": [
    "vs_m5.distance_from_previous = 0.6187585\n",
    "vs_m5.phi = -90*degree\n",
    "vs_m5.recording_mode = opx.RecordingMode.recording_output\n",
    "vs_m5.next = m6"
   ]
  },
  {
   "cell_type": "markdown",
   "metadata": {},
   "source": [
    "#### M6 (KB - HFM)"
   ]
  },
  {
   "cell_type": "code",
   "execution_count": null,
   "metadata": {},
   "outputs": [],
   "source": [
    "m6.distance_from_previous = 0.6+7.781242\n",
    "m6.theta = 1.75*degree\n",
    "m6.phi = -90*degree\n",
    "m6.inverse_p = -1/(m6.distance_from_previous)\n",
    "m6.inverse_q = 1/(0.5 + 1.80)\n",
    "m6.theta0 = m6.theta\n",
    "m6.recording_mode = opx.RecordingMode.recording_output\n",
    "m6.next = m7"
   ]
  },
  {
   "cell_type": "markdown",
   "metadata": {},
   "source": [
    "#### M7 (KB - VFM)"
   ]
  },
  {
   "cell_type": "code",
   "execution_count": null,
   "metadata": {},
   "outputs": [],
   "source": [
    "m7.distance_from_previous = 0.5\n",
    "m7.theta = 1.75*degree\n",
    "m7.phi = 90*degree\n",
    "m7.inverse_p = -1/(m7.distance_from_previous+m6.distance_from_previous+vs_m5.distance_from_previous+m5.distance_from_previous)\n",
    "m7.inverse_q = 1/(1.80)\n",
    "m7.theta0 = m7.theta\n",
    "m7.recording_mode = opx.RecordingMode.recording_output\n",
    "m7.next = peem"
   ]
  },
  {
   "cell_type": "markdown",
   "metadata": {},
   "source": [
    "#### PEEM"
   ]
  },
  {
   "cell_type": "code",
   "execution_count": null,
   "metadata": {},
   "outputs": [],
   "source": [
    "peem.distance_from_previous = 1.8\n",
    "peem.recording_mode = opx.RecordingMode.recording_output"
   ]
  },
  {
   "cell_type": "markdown",
   "metadata": {},
   "source": [
    "<a id=\"alignement\"></a>\n",
    "## Alignment scripts\n",
    "\n",
    "In this section we define the all the parameters that change with either configuration or energy. These scripts are taylored\n",
    "for each \n",
    "\n",
    "[Back to the top](#toc)"
   ]
  },
  {
   "cell_type": "markdown",
   "metadata": {},
   "source": [
    "### Undulators"
   ]
  },
  {
   "cell_type": "code",
   "execution_count": null,
   "metadata": {},
   "outputs": [],
   "source": [
    "def align_undulator(active_chain, wavelength, **kwargs):\n",
    "    \"\"\"\n",
    "    Sets photon beam size and divergence as a function of wavelength in [m]\n",
    "    \"\"\"\n",
    "\n",
    "    verbose = kwargs.get(\"verbose\", False)\n",
    "    dist_slit = kwargs.get(\"dist_slit\", 20)\n",
    "    \n",
    "    if verbose:\n",
    "        print(\"\\n>>>> Aligning undulator\")\n",
    "\n",
    "    active_chain[0].set_undulator(wavelength, **kwargs)\n",
    "    active_chain[1].distance_from_previous = dist_slit\n",
    "    if \"LE\" in active_chain[0].name:\n",
    "        active_chain[1].distance_from_previous -= (200.9266-199.0776)\n"
   ]
  },
  {
   "cell_type": "markdown",
   "metadata": {},
   "source": [
    "### M1 triad"
   ]
  },
  {
   "cell_type": "code",
   "execution_count": null,
   "metadata": {},
   "outputs": [],
   "source": [
    "def align_m1(active_chain, m1_distances, **kwargs):\n",
    "    \"\"\"\n",
    "    Sets the M1A angle and distance from mono entrance slit to M1bis\n",
    "    \"\"\"\n",
    "    \n",
    "    dist_slit = kwargs.get(\"dist_slit\", 2.7)\n",
    "    verbose = kwargs.get(\"verbose\", False)\n",
    "\n",
    "    if verbose:\n",
    "        print(\"\\n>>>> Aligning M1\")\n",
    "   \n",
    "    active_chain[2].theta = active_chain[3].theta\n",
    "    active_chain[2].next  = active_chain[3]\n",
    "\n",
    "    active_chain[4].distance_from_previous = dist_slit\n",
    "    if \"1B\" in active_chain[3].name:\n",
    "        active_chain[4].distance_from_previous += (m1_distances[1][1]-m1_distances[0][1])\n",
    "\n",
    "    if verbose:\n",
    "        name = active_chain[3].name\n",
    "        angle = active_chain[3].theta/degree\n",
    "        dist = active_chain[3].distance_from_previous\n",
    "        print(f\"M1A-{name} alignment: grazing angle {angle:.2f} degrees and {dist:.3f} m between them\")"
   ]
  },
  {
   "cell_type": "markdown",
   "metadata": {},
   "source": [
    "### Monochromator"
   ]
  },
  {
   "cell_type": "code",
   "execution_count": null,
   "metadata": {},
   "outputs": [],
   "source": [
    "def align_mono(active_chain, wavelength, alignment_condition, alignment_condition_value,\n",
    "               GM2_trans_dist, GM3_proj_dist, **kwargs):\n",
    "    \"\"\"\n",
    "    Sets the grating and M2 angles and relative distances between G/M2/M3\n",
    "    \"\"\"\n",
    "\n",
    "    verbose = kwargs.get(\"verbose\", False)\n",
    "\n",
    "    grating = None\n",
    "    for oe in active_chain:\n",
    "        if \"reseau\" in oe.name.lower() or \"grating\" in oe.name.lower():\n",
    "            grating = oe\n",
    "\n",
    "    if grating is None:\n",
    "        raise ValueError(\"No grating appears in this beamline configuration\")\n",
    "    \n",
    "    gdict = opx.align_grating(grating, verbose=0, \n",
    "                             apply_alignment=True, \n",
    "                             return_parameters=True,\n",
    "                             condition=alignment_condition, \n",
    "                             condition_value=alignment_condition_value, \n",
    "                             lambda_align=wavelength, \n",
    "                             order=grating.order_align,\n",
    "                             line_density=grating.line_density)\n",
    "    \n",
    "    gm2 = GM2_trans_dist/np.sin(gdict[\"deviation\"])\n",
    "    m2m3 = GM3_proj_dist-(GM2_trans_dist/np.tan(gdict[\"deviation\"]))\n",
    "\n",
    "    active_chain[6].theta = gdict[\"deviation\"]/2\n",
    "    active_chain[6].distance_from_previous = gm2\n",
    "\n",
    "    active_chain[7].distance_from_previous = m2m3\n",
    "\n",
    "    if verbose:\n",
    "        print(f\"\\n>>>> {grating.name} grating alignment for a \"+\n",
    "              f\"{alignment_condition} {alignment_condition_value} - wavelength \" +\n",
    "              f\"{wavelength/nano:.3f} nm (E={hc/wavelength:.3f} eV)\")\n",
    "        print(f\"> alpha {gdict['alpha_deg']:.6f} deg\")\n",
    "        print(f\"> beta {gdict['beta_deg']:.6f} deg\")\n",
    "        print(f\"> G-M2 distance {gm2:.6f} m\")\n",
    "        print(f\"> theta_m2 {(gdict['alpha_deg']+gdict['beta_deg'])/2:.6f} deg\")\n",
    "        print(f\"> M2-M3 distance {m2m3:.6f} m\")"
   ]
  },
  {
   "cell_type": "markdown",
   "metadata": {},
   "source": [
    "### Beamline alignment procedure"
   ]
  },
  {
   "cell_type": "code",
   "execution_count": null,
   "metadata": {},
   "outputs": [],
   "source": [
    "def align_call(alignment_wvl, emission_wvl, alignment_condition, alignment_condition_value, \n",
    "               m1_distances, GM2_trans_dist, GM3_proj_dist, **kwargs):\n",
    "\n",
    "    align_undulator(Hermes.active_chain, emission_wvl, **kwargs)\n",
    "    align_m1(Hermes.active_chain, m1_distances, **kwargs)\n",
    "    align_mono(Hermes.active_chain, alignment_wvl, alignment_condition, \n",
    "               alignment_condition_value, GM2_trans_dist, GM3_proj_dist, **kwargs)\n",
    "Hermes.align_steps = align_call\n",
    "\n",
    "def set_bl(energy_alignment, alignment_condition, alignment_condition_value, \n",
    "               m1_distances=m1_distance, GM2_trans_dist=15e-3, GM3_proj_dist=0.55, **kwargs):\n",
    "\n",
    "    energy_radiate =  kwargs.get(\"energy_radiate\", energy_alignment)\n",
    "    dE =  kwargs.get(\"dE\", 0)\n",
    "    rays = kwargs.get(\"rays\", 500)\n",
    "\n",
    "    alignment_wvl = hc/energy_alignment\n",
    "    emission_wvl = hc/energy_radiate\n",
    "\n",
    "    Hermes.align(alignment_wvl, emission_wvl, \n",
    "                 alignment_condition=alignment_condition, \n",
    "                 alignment_condition_value=alignment_condition_value, \n",
    "                 m1_distances=m1_distances, GM2_trans_dist=GM2_trans_dist,\n",
    "                 GM3_proj_dist=GM3_proj_dist, **kwargs)\n",
    "\n",
    "    Hermes.clear_impacts(clear_source=True)\n",
    "    Hermes.active_chain[0].nrays = rays\n",
    "    if dE==0:\n",
    "        Hermes.generate(emission_wvl)\n",
    "    else:\n",
    "        for E in np.arange(energy_radiate*(1-dE), energy_radiate*(1+dE)):\n",
    "            Hermes.generate(hc/E)\n",
    "    Hermes.radiate()"
   ]
  },
  {
   "cell_type": "markdown",
   "metadata": {},
   "source": [
    "<a id=\"exec\"></a>\n",
    "## Simulation execution\n",
    "[Back to the top](#toc)"
   ]
  },
  {
   "cell_type": "markdown",
   "metadata": {},
   "source": [
    "### Available beamline configurations"
   ]
  },
  {
   "cell_type": "code",
   "execution_count": null,
   "metadata": {},
   "outputs": [],
   "source": [
    "print(\"Low energy configurations:\\n\")\n",
    "for chain_name in Hermes.chains:    \n",
    "    if \"450\" in chain_name:\n",
    "        print(chain_name,\":\\n\\t\",Hermes.chains[chain_name])"
   ]
  },
  {
   "cell_type": "code",
   "execution_count": null,
   "metadata": {},
   "outputs": [],
   "source": [
    "print(\"High energy configurations:\\n\")\n",
    "for chain_name in Hermes.chains:    \n",
    "    if \"600\" in chain_name:\n",
    "        print(chain_name,\":\\n\\t\",Hermes.chains[chain_name])"
   ]
  },
  {
   "cell_type": "markdown",
   "metadata": {},
   "source": [
    "The beamline can be conviniently simulated by selecting an **active chain** and an energy:\n",
    "\n",
    "```python\n",
    "Hermes.active_chain = \"LE_G450_STXM\"\n",
    "bl_align(500, alignment_condition=\"cff\", alignment_condition_value=0.2, verbose=True)\n",
    "```\n",
    "\n",
    "To check the orientation of the optical elements, draw the beamline:\n",
    "\n",
    "```python\n",
    "Hermes.show_active_chain_orientation()\n",
    "Hermes.draw_active_chain()\n",
    "spots = Hermes.draw_to_scale()\n",
    "```"
   ]
  },
  {
   "cell_type": "markdown",
   "metadata": {},
   "source": [
    "<a id=\"visu\"></a>\n",
    "## Visualisations \n",
    "[Back to the top](#toc)"
   ]
  },
  {
   "cell_type": "code",
   "execution_count": null,
   "metadata": {},
   "outputs": [],
   "source": [
    "E=719.9\n",
    "number_of_rays = 5000"
   ]
  },
  {
   "cell_type": "markdown",
   "metadata": {},
   "source": [
    "### HU64 with 450 l/mm grating - E=719.9 (Fe $L_2$)\n",
    "[Back to the top](#toc)"
   ]
  },
  {
   "cell_type": "code",
   "execution_count": null,
   "metadata": {},
   "outputs": [],
   "source": [
    "Hermes.active_chain = \"LE_G450_mono_out\"\n",
    "set_bl(E, alignment_condition=\"cff\", alignment_condition_value=0.2, verbose=True, rays=number_of_rays, center_undulator=0)"
   ]
  },
  {
   "cell_type": "markdown",
   "metadata": {},
   "source": [
    "#### Mono entrance slit\n",
    "[Back to the top](#toc)"
   ]
  },
  {
   "cell_type": "code",
   "execution_count": null,
   "metadata": {},
   "outputs": [],
   "source": [
    "oe = mono_entrance_slit\n",
    "f = opx.get_optimal_focalization_distance(oe, verbose=True)\n",
    "beam = save_beam_data_to_csv(oe.get_impacts(), \"./results/pyoptix_G450_mono_entrance_slit.csv\")"
   ]
  },
  {
   "cell_type": "code",
   "execution_count": null,
   "metadata": {},
   "outputs": [],
   "source": [
    "opx.plot_spd_plotly(oe.get_diagram(distance_from_oe=0), oe_name=oe.name, x_key=\"X\", y_key=\"dX\", \n",
    "                show_map=False, light_plot=False, orthonorm=False, save_in_file=\"\", return_fwhm=False, ) "
   ]
  },
  {
   "cell_type": "code",
   "execution_count": null,
   "metadata": {},
   "outputs": [],
   "source": [
    "opx.plot_spd_plotly(oe.get_diagram(distance_from_oe=0), oe_name=oe.name, x_key=\"Y\", y_key=\"dY\", \n",
    "                show_map=False, light_plot=False, orthonorm=False, save_in_file=\"\", return_fwhm=False,) "
   ]
  },
  {
   "cell_type": "markdown",
   "metadata": {},
   "source": [
    "#### Mono exit slit - $E_0$\n",
    "[Back to the top](#toc)"
   ]
  },
  {
   "cell_type": "code",
   "execution_count": null,
   "metadata": {},
   "outputs": [],
   "source": [
    "oe = mono_exit_slit\n",
    "f = opx.get_optimal_focalization_distance(oe, verbose=True)\n",
    "beam = save_beam_data_to_csv(oe.get_impacts(), \"./results/pyoptix_G450_mono_exit_slit.csv\")"
   ]
  },
  {
   "cell_type": "code",
   "execution_count": null,
   "metadata": {},
   "outputs": [],
   "source": [
    "opx.plot_spd_plotly(oe.get_diagram(distance_from_oe=0), oe_name=oe.name, x_key=\"X\", y_key=\"dX\", \n",
    "                show_map=False, light_plot=False, orthonorm=False, save_in_file=\"\", return_fwhm=False, )"
   ]
  },
  {
   "cell_type": "code",
   "execution_count": null,
   "metadata": {},
   "outputs": [],
   "source": [
    "opx.plot_spd_plotly(oe.get_diagram(distance_from_oe=0), oe_name=oe.name, x_key=\"Y\", y_key=\"dY\", \n",
    "                show_map=False, light_plot=False, orthonorm=False, save_in_file=\"\", return_fwhm=False,) "
   ]
  },
  {
   "cell_type": "markdown",
   "metadata": {},
   "source": [
    "#### G450 l/mm - Resolving power - $\\Delta E/E=20'000$\n",
    "[Back to the top](#toc)"
   ]
  },
  {
   "cell_type": "code",
   "execution_count": null,
   "metadata": {},
   "outputs": [],
   "source": [
    "set_bl(E, energy_radiate=E*(1+2/20000), alignment_condition=\"cff\", alignment_condition_value=0.2, verbose=True, rays=number_of_rays, center_undulator=0)\n",
    "beam = save_beam_data_to_csv(oe.get_impacts(), \"./results/pyoptix_G450_RP20000_p.csv\")\n",
    "\n",
    "set_bl(E, energy_radiate=E*(1-2/20000), alignment_condition=\"cff\", alignment_condition_value=0.2, verbose=True, rays=number_of_rays, center_undulator=0)\n",
    "beam = save_beam_data_to_csv(oe.get_impacts(), \"./results/pyoptix_G450_RP20000_n.csv\")"
   ]
  },
  {
   "cell_type": "code",
   "execution_count": null,
   "metadata": {},
   "outputs": [],
   "source": [
    "opx.plot_spd_plotly(oe.get_diagram(distance_from_oe=0), oe_name=oe.name, x_key=\"X\", y_key=\"Y\", \n",
    "                show_map=False, light_plot=False, orthonorm=False, save_in_file=\"\", return_fwhm=False, )"
   ]
  },
  {
   "cell_type": "markdown",
   "metadata": {},
   "source": [
    "#### G450 l/mm - Resolving power - $\\Delta E/E=15'000$\n",
    "[Back to the top](#toc)"
   ]
  },
  {
   "cell_type": "code",
   "execution_count": null,
   "metadata": {},
   "outputs": [],
   "source": [
    "set_bl(E, energy_radiate=E*(1+2/15000), alignment_condition=\"cff\", alignment_condition_value=0.2, verbose=True, rays=number_of_rays, center_undulator=0)\n",
    "beam = save_beam_data_to_csv(oe.get_impacts(), \"./results/pyoptix_G450_RP15000_p.csv\")\n",
    "\n",
    "set_bl(E, energy_radiate=E*(1-2/15000), alignment_condition=\"cff\", alignment_condition_value=0.2, verbose=True, rays=number_of_rays, center_undulator=0)\n",
    "beam = save_beam_data_to_csv(oe.get_impacts(), \"./results/pyoptix_G450_RP15000_n.csv\")"
   ]
  },
  {
   "cell_type": "code",
   "execution_count": null,
   "metadata": {},
   "outputs": [],
   "source": [
    "opx.plot_spd_plotly(oe.get_diagram(distance_from_oe=0), oe_name=oe.name, x_key=\"X\", y_key=\"Y\", \n",
    "                show_map=False, light_plot=False, orthonorm=False, save_in_file=\"\", return_fwhm=False, )"
   ]
  },
  {
   "cell_type": "markdown",
   "metadata": {},
   "source": [
    "#### G450 l/mm - Resolving power - $\\Delta E/E=10'000$\n",
    "[Back to the top](#toc)"
   ]
  },
  {
   "cell_type": "code",
   "execution_count": null,
   "metadata": {},
   "outputs": [],
   "source": [
    "set_bl(E, energy_radiate=E*(1+2/10000), alignment_condition=\"cff\", alignment_condition_value=0.2, verbose=True, rays=number_of_rays, center_undulator=0)\n",
    "beam = save_beam_data_to_csv(oe.get_impacts(), \"./results/pyoptix_G450_RP10000_p.csv\")\n",
    "\n",
    "set_bl(E, energy_radiate=E*(1-2/10000), alignment_condition=\"cff\", alignment_condition_value=0.2, verbose=True, rays=number_of_rays, center_undulator=0)\n",
    "beam = save_beam_data_to_csv(oe.get_impacts(), \"./results/pyoptix_G450_RP10000_n.csv\")"
   ]
  },
  {
   "cell_type": "code",
   "execution_count": null,
   "metadata": {},
   "outputs": [],
   "source": [
    "opx.plot_spd_plotly(oe.get_diagram(distance_from_oe=0), oe_name=oe.name, x_key=\"X\", y_key=\"Y\", \n",
    "                show_map=False, light_plot=False, orthonorm=False, save_in_file=\"\", return_fwhm=False, )"
   ]
  },
  {
   "cell_type": "markdown",
   "metadata": {},
   "source": [
    "#### G450 l/mm - Resolving power - $\\Delta E/E=7'500$\n",
    "[Back to the top](#toc)"
   ]
  },
  {
   "cell_type": "code",
   "execution_count": null,
   "metadata": {},
   "outputs": [],
   "source": [
    "set_bl(E, energy_radiate=E*(1+2/7500), alignment_condition=\"cff\", alignment_condition_value=0.2, verbose=True, rays=number_of_rays, center_undulator=0)\n",
    "beam = save_beam_data_to_csv(oe.get_impacts(), \"./results/pyoptix_G450_RP7500_p.csv\")\n",
    "\n",
    "set_bl(E, energy_radiate=E*(1-2/7500), alignment_condition=\"cff\", alignment_condition_value=0.2, verbose=True, rays=number_of_rays, center_undulator=0)\n",
    "beam = save_beam_data_to_csv(oe.get_impacts(), \"./results/pyoptix_G450_RP7500_n.csv\")"
   ]
  },
  {
   "cell_type": "code",
   "execution_count": null,
   "metadata": {},
   "outputs": [],
   "source": [
    "opx.plot_spd_plotly(oe.get_diagram(distance_from_oe=0), oe_name=oe.name, x_key=\"X\", y_key=\"Y\", \n",
    "                show_map=False, light_plot=False, orthonorm=False, save_in_file=\"\", return_fwhm=False, )"
   ]
  },
  {
   "cell_type": "markdown",
   "metadata": {},
   "source": [
    "#### G450 l/mm - Resolving power - $\\Delta E/E=5'000$\n",
    "[Back to the top](#toc)"
   ]
  },
  {
   "cell_type": "code",
   "execution_count": null,
   "metadata": {},
   "outputs": [],
   "source": [
    "set_bl(E, energy_radiate=E*(1+2/5000), alignment_condition=\"cff\", alignment_condition_value=0.2, verbose=True, rays=number_of_rays, center_undulator=0)\n",
    "beam = save_beam_data_to_csv(oe.get_impacts(), \"./results/pyoptix_G450_RP5000_p.csv\")\n",
    "\n",
    "set_bl(E, energy_radiate=E*(1-2/5000), alignment_condition=\"cff\", alignment_condition_value=0.2, verbose=True, rays=number_of_rays, center_undulator=0)\n",
    "beam = save_beam_data_to_csv(oe.get_impacts(), \"./results/pyoptix_G450_RP5000_n.csv\")"
   ]
  },
  {
   "cell_type": "code",
   "execution_count": null,
   "metadata": {},
   "outputs": [],
   "source": [
    "opx.plot_spd_plotly(oe.get_diagram(distance_from_oe=0), oe_name=oe.name, x_key=\"X\", y_key=\"Y\", \n",
    "                show_map=False, light_plot=False, orthonorm=False, save_in_file=\"\", return_fwhm=False, )"
   ]
  },
  {
   "cell_type": "markdown",
   "metadata": {},
   "source": [
    "#### STXM virtual source\n",
    "[Back to the top](#toc)"
   ]
  },
  {
   "cell_type": "code",
   "execution_count": null,
   "metadata": {},
   "outputs": [],
   "source": [
    "Hermes.active_chain = \"LE_G450_STXM\"\n",
    "set_bl(E, alignment_condition=\"cff\", alignment_condition_value=0.2, verbose=True, rays=number_of_rays, center_undulator=0)"
   ]
  },
  {
   "cell_type": "code",
   "execution_count": null,
   "metadata": {},
   "outputs": [],
   "source": [
    "oe = vs_m4\n",
    "f = opx.get_optimal_focalization_distance(oe, verbose=True)\n",
    "beam = save_beam_data_to_csv(oe.get_impacts(), \"./results/pyoptix_G450_stxm.csv\")"
   ]
  },
  {
   "cell_type": "code",
   "execution_count": null,
   "metadata": {},
   "outputs": [],
   "source": [
    "opx.plot_spd_plotly(oe.get_diagram(distance_from_oe=0), oe_name=oe.name, x_key=\"X\", y_key=\"dX\", \n",
    "                show_map=False, light_plot=False, orthonorm=False, save_in_file=\"\", return_fwhm=False, )"
   ]
  },
  {
   "cell_type": "code",
   "execution_count": null,
   "metadata": {},
   "outputs": [],
   "source": [
    "opx.plot_spd_plotly(oe.get_diagram(distance_from_oe=0), oe_name=oe.name, x_key=\"Y\", y_key=\"dY\", \n",
    "                show_map=False, light_plot=False, orthonorm=False, save_in_file=\"\", return_fwhm=False, )"
   ]
  },
  {
   "cell_type": "markdown",
   "metadata": {},
   "source": [
    "#### PEEM fucused source\n",
    "[Back to the top](#toc)"
   ]
  },
  {
   "cell_type": "code",
   "execution_count": null,
   "metadata": {},
   "outputs": [],
   "source": [
    "Hermes.active_chain = \"LE_G450_PEEM\"\n",
    "set_bl(E, alignment_condition=\"cff\", alignment_condition_value=0.2, verbose=True, rays=number_of_rays, center_undulator=0)"
   ]
  },
  {
   "cell_type": "code",
   "execution_count": null,
   "metadata": {},
   "outputs": [],
   "source": [
    "oe = peem\n",
    "f = opx.get_optimal_focalization_distance(oe, verbose=True)\n",
    "beam = save_beam_data_to_csv(oe.get_impacts(), \"./results/pyoptix_G450_peem.csv\")"
   ]
  },
  {
   "cell_type": "code",
   "execution_count": null,
   "metadata": {},
   "outputs": [],
   "source": [
    "opx.plot_spd_plotly(oe.get_diagram(distance_from_oe=0), oe_name=oe.name, x_key=\"X\", y_key=\"dX\", \n",
    "                show_map=False, light_plot=False, orthonorm=False, save_in_file=\"\", return_fwhm=False, ) "
   ]
  },
  {
   "cell_type": "code",
   "execution_count": null,
   "metadata": {},
   "outputs": [],
   "source": [
    "opx.plot_spd_plotly(oe.get_diagram(distance_from_oe=0), oe_name=oe.name, x_key=\"Y\", y_key=\"dY\", \n",
    "                show_map=False, light_plot=False, orthonorm=False, save_in_file=\"\", return_fwhm=False, ) "
   ]
  },
  {
   "cell_type": "markdown",
   "metadata": {},
   "source": [
    "### HU42 with 600 l/mm grating - E=719.9 (Fe $L_2$)\n",
    "[Back to the top](#toc)"
   ]
  },
  {
   "cell_type": "code",
   "execution_count": null,
   "metadata": {},
   "outputs": [],
   "source": [
    "Hermes.active_chain = \"HE_G600_mono_out\"\n",
    "set_bl(E, alignment_condition=\"cff\", alignment_condition_value=0.2, verbose=True, rays=number_of_rays, center_undulator=0)"
   ]
  },
  {
   "cell_type": "markdown",
   "metadata": {},
   "source": [
    "#### Mono entrance slit\n",
    "[Back to the top](#toc)"
   ]
  },
  {
   "cell_type": "code",
   "execution_count": null,
   "metadata": {},
   "outputs": [],
   "source": [
    "oe = mono_entrance_slit\n",
    "f = opx.get_optimal_focalization_distance(oe, verbose=True)\n",
    "beam = save_beam_data_to_csv(oe.get_impacts(), \"./results/pyoptix_G600_mono_entrance_slit.csv\")"
   ]
  },
  {
   "cell_type": "code",
   "execution_count": null,
   "metadata": {},
   "outputs": [],
   "source": [
    "opx.plot_spd_plotly(oe.get_diagram(distance_from_oe=0), oe_name=oe.name, x_key=\"X\", y_key=\"dX\", \n",
    "                show_map=False, light_plot=False, orthonorm=False, save_in_file=\"\", return_fwhm=False, ) "
   ]
  },
  {
   "cell_type": "code",
   "execution_count": null,
   "metadata": {},
   "outputs": [],
   "source": [
    "opx.plot_spd_plotly(oe.get_diagram(distance_from_oe=0), oe_name=oe.name, x_key=\"Y\", y_key=\"dY\", \n",
    "                show_map=False, light_plot=False, orthonorm=False, save_in_file=\"\", return_fwhm=False,) "
   ]
  },
  {
   "cell_type": "markdown",
   "metadata": {},
   "source": [
    "#### Mono exit slit - $E_0$\n",
    "[Back to the top](#toc)"
   ]
  },
  {
   "cell_type": "code",
   "execution_count": null,
   "metadata": {},
   "outputs": [],
   "source": [
    "oe = mono_exit_slit\n",
    "f = opx.get_optimal_focalization_distance(oe, verbose=True)\n",
    "beam = save_beam_data_to_csv(oe.get_impacts(), \"./results/pyoptix_G600_mono_exit_slit.csv\")"
   ]
  },
  {
   "cell_type": "code",
   "execution_count": null,
   "metadata": {},
   "outputs": [],
   "source": [
    "opx.plot_spd_plotly(oe.get_diagram(distance_from_oe=0), oe_name=oe.name, x_key=\"X\", y_key=\"dX\", \n",
    "                show_map=False, light_plot=False, orthonorm=False, save_in_file=\"\", return_fwhm=False, )"
   ]
  },
  {
   "cell_type": "code",
   "execution_count": null,
   "metadata": {},
   "outputs": [],
   "source": [
    "opx.plot_spd_plotly(oe.get_diagram(distance_from_oe=0), oe_name=oe.name, x_key=\"Y\", y_key=\"dY\", \n",
    "                show_map=False, light_plot=False, orthonorm=False, save_in_file=\"\", return_fwhm=False,) "
   ]
  },
  {
   "cell_type": "markdown",
   "metadata": {},
   "source": [
    "#### G600 l/mm - Resolving power - $\\Delta E/E=20'000$\n",
    "[Back to the top](#toc)"
   ]
  },
  {
   "cell_type": "code",
   "execution_count": null,
   "metadata": {},
   "outputs": [],
   "source": [
    "set_bl(E, energy_radiate=E*(1+2/20000), alignment_condition=\"cff\", alignment_condition_value=0.2, verbose=True, rays=number_of_rays, center_undulator=0)\n",
    "beam = save_beam_data_to_csv(oe.get_impacts(), \"./results/pyoptix_G600_RP20000_p.csv\")\n",
    "\n",
    "set_bl(E, energy_radiate=E*(1-2/20000), alignment_condition=\"cff\", alignment_condition_value=0.2, verbose=True, rays=number_of_rays, center_undulator=0)\n",
    "beam = save_beam_data_to_csv(oe.get_impacts(), \"./results/pyoptix_G600_RP20000_n.csv\")"
   ]
  },
  {
   "cell_type": "code",
   "execution_count": null,
   "metadata": {},
   "outputs": [],
   "source": [
    "opx.plot_spd_plotly(oe.get_diagram(distance_from_oe=0), oe_name=oe.name, x_key=\"X\", y_key=\"Y\", \n",
    "                show_map=False, light_plot=False, orthonorm=False, save_in_file=\"\", return_fwhm=False, )"
   ]
  },
  {
   "cell_type": "markdown",
   "metadata": {},
   "source": [
    "#### G600 l/mm - Resolving power - $\\Delta E/E=15'000$\n",
    "[Back to the top](#toc)"
   ]
  },
  {
   "cell_type": "code",
   "execution_count": null,
   "metadata": {},
   "outputs": [],
   "source": [
    "set_bl(E, energy_radiate=E*(1+2/15000), alignment_condition=\"cff\", alignment_condition_value=0.2, verbose=True, rays=number_of_rays, center_undulator=0)\n",
    "beam = save_beam_data_to_csv(oe.get_impacts(), \"./results/pyoptix_G600_RP15000_p.csv\")\n",
    "\n",
    "set_bl(E, energy_radiate=E*(1-2/15000), alignment_condition=\"cff\", alignment_condition_value=0.2, verbose=True, rays=number_of_rays, center_undulator=0)\n",
    "beam = save_beam_data_to_csv(oe.get_impacts(), \"./results/pyoptix_G600_RP15000_n.csv\")"
   ]
  },
  {
   "cell_type": "code",
   "execution_count": null,
   "metadata": {},
   "outputs": [],
   "source": [
    "opx.plot_spd_plotly(oe.get_diagram(distance_from_oe=0), oe_name=oe.name, x_key=\"X\", y_key=\"Y\", \n",
    "                show_map=False, light_plot=False, orthonorm=False, save_in_file=\"\", return_fwhm=False, )"
   ]
  },
  {
   "cell_type": "markdown",
   "metadata": {},
   "source": [
    "#### G600 l/mm - Resolving power - $\\Delta E/E=10'000$\n",
    "[Back to the top](#toc)"
   ]
  },
  {
   "cell_type": "code",
   "execution_count": null,
   "metadata": {},
   "outputs": [],
   "source": [
    "set_bl(E, energy_radiate=E*(1+2/10000), alignment_condition=\"cff\", alignment_condition_value=0.2, verbose=True, rays=number_of_rays, center_undulator=0)\n",
    "beam = save_beam_data_to_csv(oe.get_impacts(), \"./results/pyoptix_G600_RP10000_p.csv\")\n",
    "\n",
    "set_bl(E, energy_radiate=E*(1-2/10000), alignment_condition=\"cff\", alignment_condition_value=0.2, verbose=True, rays=number_of_rays, center_undulator=0)\n",
    "beam = save_beam_data_to_csv(oe.get_impacts(), \"./results/pyoptix_G600_RP10000_n.csv\")"
   ]
  },
  {
   "cell_type": "code",
   "execution_count": null,
   "metadata": {},
   "outputs": [],
   "source": [
    "opx.plot_spd_plotly(oe.get_diagram(distance_from_oe=0), oe_name=oe.name, x_key=\"X\", y_key=\"Y\", \n",
    "                show_map=False, light_plot=False, orthonorm=False, save_in_file=\"\", return_fwhm=False, )"
   ]
  },
  {
   "cell_type": "markdown",
   "metadata": {},
   "source": [
    "#### G600 l/mm - Resolving power - $\\Delta E/E=7'500$\n",
    "[Back to the top](#toc)"
   ]
  },
  {
   "cell_type": "code",
   "execution_count": null,
   "metadata": {},
   "outputs": [],
   "source": [
    "set_bl(E, energy_radiate=E*(1+2/7500), alignment_condition=\"cff\", alignment_condition_value=0.2, verbose=True, rays=number_of_rays, center_undulator=0)\n",
    "beam = save_beam_data_to_csv(oe.get_impacts(), \"./results/pyoptix_G600_RP7500_p.csv\")\n",
    "\n",
    "set_bl(E, energy_radiate=E*(1-2/7500), alignment_condition=\"cff\", alignment_condition_value=0.2, verbose=True, rays=number_of_rays, center_undulator=0)\n",
    "beam = save_beam_data_to_csv(oe.get_impacts(), \"./results/pyoptix_G600_RP7500_n.csv\")"
   ]
  },
  {
   "cell_type": "code",
   "execution_count": null,
   "metadata": {},
   "outputs": [],
   "source": [
    "opx.plot_spd_plotly(oe.get_diagram(distance_from_oe=0), oe_name=oe.name, x_key=\"X\", y_key=\"Y\", \n",
    "                show_map=False, light_plot=False, orthonorm=False, save_in_file=\"\", return_fwhm=False, )"
   ]
  },
  {
   "cell_type": "markdown",
   "metadata": {},
   "source": [
    "#### G600 l/mm - Resolving power - $\\Delta E/E=5'000$\n",
    "[Back to the top](#toc)"
   ]
  },
  {
   "cell_type": "code",
   "execution_count": null,
   "metadata": {},
   "outputs": [],
   "source": [
    "set_bl(E, energy_radiate=E*(1+2/5000), alignment_condition=\"cff\", alignment_condition_value=0.2, verbose=True, rays=number_of_rays, center_undulator=0)\n",
    "beam = save_beam_data_to_csv(oe.get_impacts(), \"./results/pyoptix_G600_RP5000_p.csv\")\n",
    "\n",
    "set_bl(E, energy_radiate=E*(1-2/5000), alignment_condition=\"cff\", alignment_condition_value=0.2, verbose=True, rays=number_of_rays, center_undulator=0)\n",
    "beam = save_beam_data_to_csv(oe.get_impacts(), \"./results/pyoptix_G600_RP5000_n.csv\")"
   ]
  },
  {
   "cell_type": "code",
   "execution_count": null,
   "metadata": {},
   "outputs": [],
   "source": [
    "opx.plot_spd_plotly(oe.get_diagram(distance_from_oe=0), oe_name=oe.name, x_key=\"X\", y_key=\"Y\", \n",
    "                show_map=False, light_plot=False, orthonorm=False, save_in_file=\"\", return_fwhm=False, )"
   ]
  },
  {
   "cell_type": "markdown",
   "metadata": {},
   "source": [
    "#### STXM virtual source\n",
    "[Back to the top](#toc)"
   ]
  },
  {
   "cell_type": "code",
   "execution_count": null,
   "metadata": {},
   "outputs": [],
   "source": [
    "Hermes.active_chain = \"HE_G600_STXM\"\n",
    "set_bl(E, alignment_condition=\"cff\", alignment_condition_value=0.2, verbose=True, rays=number_of_rays, center_undulator=0)"
   ]
  },
  {
   "cell_type": "code",
   "execution_count": null,
   "metadata": {},
   "outputs": [],
   "source": [
    "oe = vs_m4\n",
    "f = opx.get_optimal_focalization_distance(oe, verbose=True)\n",
    "beam = save_beam_data_to_csv(oe.get_impacts(), \"./results/pyoptix_G600_stxm.csv\")"
   ]
  },
  {
   "cell_type": "code",
   "execution_count": null,
   "metadata": {},
   "outputs": [],
   "source": [
    "opx.plot_spd_plotly(oe.get_diagram(distance_from_oe=0), oe_name=oe.name, x_key=\"X\", y_key=\"dX\", \n",
    "                show_map=False, light_plot=False, orthonorm=False, save_in_file=\"\", return_fwhm=False, )"
   ]
  },
  {
   "cell_type": "code",
   "execution_count": null,
   "metadata": {},
   "outputs": [],
   "source": [
    "opx.plot_spd_plotly(oe.get_diagram(distance_from_oe=0), oe_name=oe.name, x_key=\"Y\", y_key=\"dY\", \n",
    "                show_map=False, light_plot=False, orthonorm=False, save_in_file=\"\", return_fwhm=False, )"
   ]
  },
  {
   "cell_type": "markdown",
   "metadata": {},
   "source": [
    "#### PEEM fucused source\n",
    "[Back to the top](#toc)"
   ]
  },
  {
   "cell_type": "code",
   "execution_count": null,
   "metadata": {},
   "outputs": [],
   "source": [
    "Hermes.active_chain = \"HE_G600_PEEM\"\n",
    "set_bl(E, alignment_condition=\"cff\", alignment_condition_value=0.2, verbose=True, rays=number_of_rays, center_undulator=0)"
   ]
  },
  {
   "cell_type": "code",
   "execution_count": null,
   "metadata": {},
   "outputs": [],
   "source": [
    "oe = peem\n",
    "f = opx.get_optimal_focalization_distance(oe, verbose=True)\n",
    "beam = save_beam_data_to_csv(oe.get_impacts(), \"./results/pyoptix_G600_peem.csv\")"
   ]
  },
  {
   "cell_type": "code",
   "execution_count": null,
   "metadata": {},
   "outputs": [],
   "source": [
    "opx.plot_spd_plotly(oe.get_diagram(distance_from_oe=0), oe_name=oe.name, x_key=\"X\", y_key=\"dX\", \n",
    "                show_map=False, light_plot=False, orthonorm=False, save_in_file=\"\", return_fwhm=False, )"
   ]
  },
  {
   "cell_type": "code",
   "execution_count": null,
   "metadata": {},
   "outputs": [],
   "source": [
    "opx.plot_spd_plotly(oe.get_diagram(distance_from_oe=0), oe_name=oe.name, x_key=\"Y\", y_key=\"dY\", \n",
    "                show_map=False, light_plot=False, orthonorm=False, save_in_file=\"\", return_fwhm=False, )"
   ]
  }
 ],
 "metadata": {
  "kernelspec": {
   "display_name": "PyOptiX",
   "language": "python",
   "name": "python3"
  },
  "language_info": {
   "codemirror_mode": {
    "name": "ipython",
    "version": 3
   },
   "file_extension": ".py",
   "mimetype": "text/x-python",
   "name": "python",
   "nbconvert_exporter": "python",
   "pygments_lexer": "ipython3",
   "version": "3.11.9"
  }
 },
 "nbformat": 4,
 "nbformat_minor": 2
}
